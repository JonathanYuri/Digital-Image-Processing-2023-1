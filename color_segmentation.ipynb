{
 "cells": [
  {
   "cell_type": "markdown",
   "metadata": {},
   "source": [
    "Before you turn this problem in, make sure everything runs as expected. First, **restart the kernel** (in the menubar, select Kernel$\\rightarrow$Restart) and then **run all cells** (in the menubar, select Cell$\\rightarrow$Run All).\n",
    "\n",
    "Make sure you fill in any place that says `YOUR CODE HERE` or \"YOUR ANSWER HERE\", as well as your name and collaborators below:"
   ]
  },
  {
   "cell_type": "code",
   "execution_count": 1,
   "metadata": {},
   "outputs": [],
   "source": [
    "NAME = \"JONATHAN YURI DA SILVA SANTOS\"\n",
    "MATRICULA = \"\""
   ]
  },
  {
   "cell_type": "markdown",
   "metadata": {},
   "source": [
    "---"
   ]
  },
  {
   "cell_type": "code",
   "execution_count": 2,
   "metadata": {
    "deletable": false,
    "editable": false,
    "id": "iPsHM_omsJdH",
    "nbgrader": {
     "cell_type": "code",
     "checksum": "7b66280a91689124540802b2ba4abb40",
     "grade": false,
     "grade_id": "cell-94a6ed73d4a66b8f",
     "locked": true,
     "schema_version": 3,
     "solution": false,
     "task": false
    },
    "tags": []
   },
   "outputs": [],
   "source": [
    "import cv2\n",
    "import numpy as np\n",
    "import matplotlib.pyplot as plt"
   ]
  },
  {
   "cell_type": "markdown",
   "metadata": {
    "deletable": false,
    "editable": false,
    "id": "XrE63tVstJVm",
    "nbgrader": {
     "cell_type": "markdown",
     "checksum": "324ed01925b9d5d2b5fcddc4728e1804",
     "grade": false,
     "grade_id": "cell-cdd7f57dc04020b4",
     "locked": true,
     "schema_version": 3,
     "solution": false,
     "task": false
    },
    "tags": []
   },
   "source": [
    "# Introduction\n",
    "\n",
    "Color segmentation is a fundamental technique in image processing and computer vision, aimed at isolating specific regions or objects in an image based on their color properties. By analyzing the color information of pixels in an image, color segmentation allows us to identify and extract regions of interest that possess a certain color or color range. This powerful method finds applications in various fields, such as object recognition, image analysis, and computer-aided diagnostics.\n",
    "\n",
    "The process of color segmentation involves converting the image from its original color space, often RGB, to an alternative color space, such as HSV or LAB. These color spaces separate the color information from the intensity, making it easier to define color thresholds and isolate specific colors or color ranges. Once in the appropriate color space, a thresholding technique is applied to create a binary mask that highlights the pixels within the desired color bounds.\n",
    "\n",
    "Color segmentation is widely used in numerous real-world scenarios, such as detecting and tracking objects in surveillance footage, segmenting anatomical structures in medical images, and identifying specific objects in robotics and autonomous systems. Its versatility and simplicity make color segmentation a valuable tool for researchers, engineers, and developers working on various computer vision applications that require effective and intuitive object isolation based on color cues.\n",
    "\n",
    "For more details, refer to:\n",
    "\n",
    "[Thresholding Operations using inRange](https://docs.opencv.org/3.4/da/d97/tutorial_threshold_inRange.html)"
   ]
  },
  {
   "cell_type": "markdown",
   "metadata": {
    "deletable": false,
    "editable": false,
    "id": "Dlf7l7eMV2L_",
    "nbgrader": {
     "cell_type": "markdown",
     "checksum": "3c7f277c2a47968408a778ff10343b29",
     "grade": false,
     "grade_id": "cell-d0d39f3f8a641e99",
     "locked": true,
     "schema_version": 3,
     "solution": false,
     "task": false
    },
    "tags": []
   },
   "source": [
    "### Task: Implement Image Color Segmentation\n",
    "\n",
    "In this task, you are required to complete the segment_color function to perform color segmentation on an input image. The function will take an image and a color as input and should segment the chips of the specified color from the image. The color options you can use for segmentation are 'yellow', 'green', 'red', 'orange', and 'blue'.\n",
    "\n",
    "**Output Presentation:**\n",
    "\n",
    "After completing the segment_color function, use it to segment the specified colors from the provided image. Display the original image and the segmented chips using matplotlib or any other suitable method to visualize the results.\n",
    "\n",
    "**Return Value:**\n",
    "\n",
    "The function should return a tuple containing the segmented chips as the first element and the binary mask used for segmentation as the second element. The segmented chips should be a NumPy array representing the segmented color chips, while the binary mask should be a NumPy array containing the values of 0 and 255 representing the segmentation mask."
   ]
  },
  {
   "cell_type": "code",
   "execution_count": 12,
   "metadata": {
    "deletable": false,
    "id": "BgXz_29tt0Yh",
    "nbgrader": {
     "cell_type": "code",
     "checksum": "7a204083f2d3d536ab6197b3d599e500",
     "grade": false,
     "grade_id": "cell-27e660ef7fbbf648",
     "locked": false,
     "schema_version": 3,
     "solution": true,
     "task": false
    },
    "tags": []
   },
   "outputs": [],
   "source": [
    "def segment_color(img, color):\n",
    "    \"\"\"\n",
    "    Segment chips of a specific color from the input image based on predefined color ranges.\n",
    "\n",
    "    Parameters:\n",
    "    img (numpy.ndarray): The input image as a NumPy array.\n",
    "    color (str): The color to be segmented. Options: 'yellow', 'green', 'red', 'orange', 'blue'.\n",
    "\n",
    "    Returns:\n",
    "    numpy.ndarray: The segmented chips of the specified color as a NumPy array.\n",
    "    numpy.ndarray: The binary mask representing the segmented regions.\n",
    "    \"\"\"\n",
    "    # Make sure the color parameter exists in the dictionary\n",
    "\n",
    "    # YOUR CODE HERE\n",
    "    \n",
    "    hsv_img = cv2.cvtColor(img, cv2.COLOR_BGR2HSV)\n",
    "    \n",
    "    color_ranges = {\n",
    "        'yellow': (np.array([20, 100, 100]), np.array([30, 255, 255])),\n",
    "        'green': (np.array([36, 25, 25]), np.array([86, 255, 255])),\n",
    "        'red': (np.array([170, 70, 50]), np.array([180, 255, 255])),\n",
    "        'orange': (np.array([0, 70, 50]), np.array([10, 255, 255])),\n",
    "        'blue': (np.array([100, 60, 60]), np.array([140, 255, 255]))\n",
    "    }\n",
    "\n",
    "    if color not in color_ranges:\n",
    "        raise ValueError(f\"Color not exists in dictionary. Dictionary Keys: {color_ranges.keys()}\")\n",
    "\n",
    "    lower_range, higher_range = color_ranges[color]\n",
    "    #lower_range = color_ranges[color][0]\n",
    "    #higher_range = color_ranges[color][1]\n",
    "    \n",
    "    mask = cv2.inRange(hsv_img, lower_range, higher_range)\n",
    "\n",
    "    segmented_chips = cv2.bitwise_and(img, img, mask=mask)\n",
    "    return segmented_chips, mask"
   ]
  },
  {
   "cell_type": "code",
   "execution_count": 4,
   "metadata": {
    "deletable": false,
    "editable": false,
    "id": "EK-Pp2QZvjnR",
    "nbgrader": {
     "cell_type": "code",
     "checksum": "fd2586f7906f7bcfcdb22fcdc9e6e233",
     "grade": true,
     "grade_id": "cell-bf79d29df2a3e0f2",
     "locked": true,
     "points": 1,
     "schema_version": 3,
     "solution": false,
     "task": false
    },
    "tags": []
   },
   "outputs": [],
   "source": [
    "# DO NOT TOUCH THIS\n",
    "# DO NOT TOUCH THIS"
   ]
  }
 ],
 "metadata": {
  "colab": {
   "provenance": []
  },
  "kernelspec": {
   "display_name": "Python 3 (ipykernel)",
   "language": "python",
   "name": "python3"
  },
  "language_info": {
   "codemirror_mode": {
    "name": "ipython",
    "version": 3
   },
   "file_extension": ".py",
   "mimetype": "text/x-python",
   "name": "python",
   "nbconvert_exporter": "python",
   "pygments_lexer": "ipython3",
   "version": "3.9.12"
  }
 },
 "nbformat": 4,
 "nbformat_minor": 4
}
