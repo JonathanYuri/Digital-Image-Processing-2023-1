{
  "nbformat": 4,
  "nbformat_minor": 0,
  "metadata": {
    "colab": {
      "provenance": [],
      "collapsed_sections": [
        "qp-1oEn5WgLg",
        "Pz5tg0L_WjSn",
        "kGyfdgPhWpeJ",
        "w4zpDUlIWrDB",
        "Bi_pHoMhWsQA",
        "YDVoFfsLWtaQ",
        "CLSFnx7sWuZ1",
        "JF9pMVIFWveP",
        "aE81KfjZWwzf",
        "J8JxOaApWyAq",
        "45sLfBoaWzK7",
        "DzqXGpv1W0VW",
        "YBFV9b1CW1UO",
        "rZ9h7so4W2bd",
        "RpS8Qwo1W3el",
        "95bUg9rQW4ft",
        "QYzSI5c7W5av",
        "JqaCS6mBW6Xc",
        "Um4ajo6kW7SX",
        "45o5wOFqW7Wx",
        "Cfkyfxj2W99m",
        "r4CqpRavW_Ad",
        "xZtLx-wdXAPE",
        "HrCU2u2UXBVI",
        "iceW1CO4XCRF",
        "KmRj0EJGXD32",
        "6c7IIV1SXHSI",
        "JzeG7LvHXW3z",
        "q9MSXpuGXXyO",
        "KNTARHPbXp-g",
        "JuLm5jmgZNMb",
        "Mrv7QJn5ZOTm",
        "_RgoFIA3ZPYJ",
        "t6CtGI0BZQO8",
        "6O_tvajsZRG6",
        "0ZPHPEAUZR8s",
        "VRa584ErZSrS",
        "oplwhpw4ZTrQ",
        "QCHOqvAWZUcm",
        "Bpke9UkcZVTj",
        "cCqYHeEmZWF5",
        "YXd4gT5eZWvL",
        "gHKFBAbobEEW",
        "CB2tDOdsbHdY",
        "WQ7ThHdUZXX6",
        "DWWV31yaZZAz",
        "V0S0xpk3ZdUI",
        "fleWzwcdZeD6",
        "sxH5Df_3Ze7k",
        "80mr6UHZZf6W",
        "Nw2EdraBZgtn",
        "J3kNItEIZjO_",
        "fSmHaEH6ZmP1",
        "KTM921FXZnNH",
        "95cpSrp0ZoGX",
        "M5TOAjUwZpKP",
        "aNIO9YOdZqD7",
        "C_5MbCqLZrBo",
        "5Qr30O6VZr76",
        "b1RJg_M2Zsee",
        "D5995kp4ZxAz",
        "9hPIWdA7Zy1s",
        "4IhIudeYZzgu",
        "L0tkXk2fZ0MX",
        "LA6x1A26Z04z",
        "9J7GqHwEZ1vT",
        "LMOIET_QZ1y1",
        "8MnmLNmBZ55x",
        "hKU1UDBHZ9wI",
        "0roTCZooZ-wS",
        "o_krX3IeaCyv",
        "ioNJ07kLaEWm",
        "W4-vLwjnaFBg",
        "MPrXOBTdaFqS",
        "tOV_KSyDaFuE",
        "6RRCqxJPaJCF",
        "WCo880ibaKgN",
        "rnE0Y6XCaLOr",
        "EivfqzlRaMA2",
        "5FWQHmWVaMzV",
        "ih4iYXxcaNtu",
        "EqHdxRlfaOeJ",
        "EyXaaD1raPCZ",
        "D3L4Gd3CaQyb",
        "vyekEvOMaTXN",
        "CHqowHNUaUA_",
        "8wUCHdrraVXG",
        "Rl4iD0z8aV-y",
        "uQq90alCaWmS",
        "YZwPocpaaXNN",
        "ymQ2dXeAaX7q",
        "dTlI7GJ-aYgy",
        "QDNFWpu4aZKA",
        "kd_nJUkBaZlE",
        "Yn2Rf6Ababzt",
        "kAAQZ9VVafA2",
        "obq28-z-afpI",
        "g2yqY4XlagRI",
        "LQ8DA7y0ag8Z",
        "sv1wtsgYahk8",
        "JWNk97weaiI-",
        "Oc9WCWicai0b",
        "fColP3ogajTI",
        "_PBHGC--alAQ",
        "8YNeYxWran6B",
        "3ssZVP9uaomN",
        "EjNBuMMYapTl",
        "shgeI53eaqA4",
        "jvh_ipAraqtP",
        "CAxsMnBbar7X",
        "0TuK212Paskc",
        "lUWzMRSTatOd",
        "V7qEm5HtauwL",
        "copfW2StavbX",
        "V763lgz4awBy",
        "eACs6esNawqP",
        "iy0qs4T1axP7",
        "qmdNaJoPax4S",
        "4lBiCDp2aypP",
        "kTPJmaYlazSU",
        "27381hQWaz9Y",
        "iAEsasAXa0fh",
        "fpGZB5GHa1KC",
        "ai0-svW6a1x8"
      ],
      "authorship_tag": "ABX9TyPe1twuhNuaj3Ye06qxcca/",
      "include_colab_link": true
    },
    "kernelspec": {
      "name": "python3",
      "display_name": "Python 3"
    },
    "language_info": {
      "name": "python"
    }
  },
  "cells": [
    {
      "cell_type": "markdown",
      "metadata": {
        "id": "view-in-github",
        "colab_type": "text"
      },
      "source": [
        "<a href=\"https://colab.research.google.com/github/JonathanYuri/Digital-Image-Processing-2023-1/blob/main/NumpyTutorial.ipynb\" target=\"_parent\"><img src=\"https://colab.research.google.com/assets/colab-badge.svg\" alt=\"Open In Colab\"/></a>"
      ]
    },
    {
      "cell_type": "code",
      "source": [
        "import numpy as np\n",
        "import matplotlib.pyplot as plt"
      ],
      "metadata": {
        "id": "qN-RxmPXnog9"
      },
      "execution_count": null,
      "outputs": []
    },
    {
      "cell_type": "markdown",
      "source": [
        "#NumPy Array"
      ],
      "metadata": {
        "id": "qp-1oEn5WgLg"
      }
    },
    {
      "cell_type": "markdown",
      "source": [
        "## How to create an empty and a full NumPy array?"
      ],
      "metadata": {
        "id": "Pz5tg0L_WjSn"
      }
    },
    {
      "cell_type": "code",
      "source": [
        "n = 3\n",
        "m = 2\n",
        "full_with = 5\n",
        "empty_arr = np.empty((n, m))\n",
        "\n",
        "print(\"Empty Array\")\n",
        "print(empty_arr)\n",
        "\n",
        "full_arr = np.full((n, m), full_with)\n",
        "\n",
        "print(\"Full Array\")\n",
        "print(full_arr)"
      ],
      "metadata": {
        "colab": {
          "base_uri": "https://localhost:8080/"
        },
        "id": "cImXCqixoRP_",
        "outputId": "d1c685d9-7199-4695-d6e8-c6dee0d49d75"
      },
      "execution_count": null,
      "outputs": [
        {
          "output_type": "stream",
          "name": "stdout",
          "text": [
            "Empty Array\n",
            "[[0.65652778 0.53277778]\n",
            " [0.65652778 4.22877778]\n",
            " [5.61652778 0.53277778]]\n",
            "Full Array\n",
            "[[5 5]\n",
            " [5 5]\n",
            " [5 5]]\n"
          ]
        }
      ]
    },
    {
      "cell_type": "markdown",
      "source": [
        "## Create a Numpy array filled with all **zeros**"
      ],
      "metadata": {
        "id": "kGyfdgPhWpeJ"
      }
    },
    {
      "cell_type": "code",
      "source": [
        "arr = np.zeros((n, m))\n",
        "\n",
        "print(\"Array filled with all zeros\")\n",
        "print(arr)"
      ],
      "metadata": {
        "colab": {
          "base_uri": "https://localhost:8080/"
        },
        "id": "Wh8WcxyAo6sr",
        "outputId": "c6afe985-edf0-43e4-bf0a-6ba1773941ac"
      },
      "execution_count": null,
      "outputs": [
        {
          "output_type": "stream",
          "name": "stdout",
          "text": [
            "Array filled with all zeros\n",
            "[[0. 0.]\n",
            " [0. 0.]\n",
            " [0. 0.]]\n"
          ]
        }
      ]
    },
    {
      "cell_type": "markdown",
      "source": [
        "## Create a Numpy array filled with all ones"
      ],
      "metadata": {
        "id": "w4zpDUlIWrDB"
      }
    },
    {
      "cell_type": "code",
      "source": [
        "arr = np.ones((n, m))\n",
        "\n",
        "print(\"Array filled with all ones\")\n",
        "print(arr)"
      ],
      "metadata": {
        "colab": {
          "base_uri": "https://localhost:8080/"
        },
        "id": "H9XqSFRvpGqf",
        "outputId": "7f36520a-5785-4235-cf9e-0c6ec2cc6f24"
      },
      "execution_count": null,
      "outputs": [
        {
          "output_type": "stream",
          "name": "stdout",
          "text": [
            "Array filled with all ones\n",
            "[[1. 1.]\n",
            " [1. 1.]\n",
            " [1. 1.]]\n"
          ]
        }
      ]
    },
    {
      "cell_type": "markdown",
      "source": [
        "## Check whether a Numpy array contains a specified row"
      ],
      "metadata": {
        "id": "Bi_pHoMhWsQA"
      }
    },
    {
      "cell_type": "code",
      "source": [
        "arr = np.array([[1, 2, 3],\n",
        "                  [4, 5, 6],\n",
        "                  [7, 8, 9]])\n",
        "\n",
        "row = np.array([4, 5, 6])\n",
        "\n",
        "result = np.all(arr == row, axis=1) # verifica pra cada linha do array se é igual à row\n",
        "contains_row = np.any(result) # verifica se algum resultado deu true\n",
        "\n",
        "#print(result)\n",
        "print(\"Array contains row?: \", contains_row)"
      ],
      "metadata": {
        "colab": {
          "base_uri": "https://localhost:8080/"
        },
        "id": "V4oFvVxCpOqL",
        "outputId": "3b5e47e2-e990-44be-ab6f-590b55773714"
      },
      "execution_count": null,
      "outputs": [
        {
          "output_type": "stream",
          "name": "stdout",
          "text": [
            "Array contains row?:  True\n"
          ]
        }
      ]
    },
    {
      "cell_type": "markdown",
      "source": [
        "## How to Remove rows in Numpy array that contains non-numeric values?"
      ],
      "metadata": {
        "id": "YDVoFfsLWtaQ"
      }
    },
    {
      "cell_type": "code",
      "source": [
        "arr = np.array([[1, 2, 3],\n",
        "                  [4, np.nan, 6],\n",
        "                  [7, 8, 9]])\n",
        "\n",
        "arr_nan = np.isnan(arr)\n",
        "rows_nan = arr_nan.sum(axis=1)\n",
        "rows_nan_bool = rows_nan == 0\n",
        "filtered_array = arr[rows_nan_bool]\n",
        "\n",
        "#print(rows_nan_bool)\n",
        "print(filtered_array)"
      ],
      "metadata": {
        "colab": {
          "base_uri": "https://localhost:8080/"
        },
        "id": "hoN7JJ49vhcy",
        "outputId": "af0083b2-d611-4ad6-b247-902d5d09aaa5"
      },
      "execution_count": null,
      "outputs": [
        {
          "output_type": "stream",
          "name": "stdout",
          "text": [
            "[[1. 2. 3.]\n",
            " [7. 8. 9.]]\n"
          ]
        }
      ]
    },
    {
      "cell_type": "markdown",
      "source": [
        "## Remove single-dimensional entries from the shape of an array"
      ],
      "metadata": {
        "id": "CLSFnx7sWuZ1"
      }
    },
    {
      "cell_type": "code",
      "source": [
        "arr = np.array([[[1, 2, 3]]])\n",
        "print(\"Shape before:\", arr.shape)\n",
        "print(\"Array before:\\n\", arr)\n",
        "\n",
        "arr_squeezed = np.squeeze(arr)\n",
        "print(\"Shape after:\", arr_squeezed.shape)\n",
        "print(\"Array after:\\n\", arr_squeezed)"
      ],
      "metadata": {
        "colab": {
          "base_uri": "https://localhost:8080/"
        },
        "id": "p9em4iU_OqqU",
        "outputId": "55598314-67fa-490b-d8e1-1bf6e725ac49"
      },
      "execution_count": null,
      "outputs": [
        {
          "output_type": "stream",
          "name": "stdout",
          "text": [
            "Shape before: (1, 1, 3)\n",
            "Array before:\n",
            " [[[1 2 3]]]\n",
            "Shape after: (3,)\n",
            "Array after:\n",
            " [1 2 3]\n"
          ]
        }
      ]
    },
    {
      "cell_type": "markdown",
      "source": [
        "## Find the number of occurrences of a sequence in a NumPy array"
      ],
      "metadata": {
        "id": "JF9pMVIFWveP"
      }
    },
    {
      "cell_type": "code",
      "source": [
        "arr = np.array([[1, 2, 3, 1, 2, 7, 4, 5, 1, 2, 8],\n",
        "                [1, 2, 3, 1, 2, 7, 4, 5, 1, 2, 8]])\n",
        "\n",
        "arr = arr.flatten()\n",
        "output = repr(arr).count(\"1, 2\")\n",
        "print(output)"
      ],
      "metadata": {
        "colab": {
          "base_uri": "https://localhost:8080/"
        },
        "id": "QUTibhhwPd35",
        "outputId": "b2686ba0-c7ca-4d8d-c42d-ccd7948387b3"
      },
      "execution_count": null,
      "outputs": [
        {
          "output_type": "stream",
          "name": "stdout",
          "text": [
            "6\n"
          ]
        }
      ]
    },
    {
      "cell_type": "markdown",
      "source": [
        "## Find the most frequent value in a NumPy array"
      ],
      "metadata": {
        "id": "aE81KfjZWwzf"
      }
    },
    {
      "cell_type": "code",
      "source": [
        "arr = np.array([4, 1, 2, 3, 1, 7, 2])\n",
        "values, counts = np.unique(arr, return_counts=True)\n",
        "positions_in_values = np.where(counts == counts.max())\n",
        "print(\"Most frequent values: \", values[positions_in_values])"
      ],
      "metadata": {
        "colab": {
          "base_uri": "https://localhost:8080/"
        },
        "id": "mvJczoyt0vtY",
        "outputId": "f0b3696b-5afa-46c9-96f2-ca746d386fcc"
      },
      "execution_count": null,
      "outputs": [
        {
          "output_type": "stream",
          "name": "stdout",
          "text": [
            "Most frequent values:  [1 2]\n"
          ]
        }
      ]
    },
    {
      "cell_type": "markdown",
      "source": [
        "## Combining a one and a two-dimensional NumPy Array"
      ],
      "metadata": {
        "id": "J8JxOaApWyAq"
      }
    },
    {
      "cell_type": "code",
      "source": [
        "arr1 = np.array([1, 2, 3])\n",
        "\n",
        "arr2 = np.array([[4, 5, 6],\n",
        "                 [7, 8, 9]])\n",
        "\n",
        "arr_result = np.vstack((arr1, arr2))\n",
        "print(arr_result)"
      ],
      "metadata": {
        "colab": {
          "base_uri": "https://localhost:8080/"
        },
        "id": "HliQJawW350T",
        "outputId": "55ac8c11-1959-4702-a0b0-e7f688453e8e"
      },
      "execution_count": null,
      "outputs": [
        {
          "output_type": "stream",
          "name": "stdout",
          "text": [
            "[[1 2 3]\n",
            " [4 5 6]\n",
            " [7 8 9]]\n"
          ]
        }
      ]
    },
    {
      "cell_type": "markdown",
      "source": [
        "## How to build an array of all combinations of two NumPy arrays?"
      ],
      "metadata": {
        "id": "45sLfBoaWzK7"
      }
    },
    {
      "cell_type": "code",
      "source": [
        "arr1 = np.array([3, 2, 7])\n",
        "arr2 = np.array([4, 5])\n",
        "\n",
        "grid1, grid2 = np.meshgrid(arr1, arr2)\n",
        "\n",
        "combined_arr = np.vstack((grid1.flatten(), grid2.flatten())).T\n",
        "print(combined_arr)"
      ],
      "metadata": {
        "colab": {
          "base_uri": "https://localhost:8080/"
        },
        "id": "oiOYn24o4iQ6",
        "outputId": "72068cc6-1d50-4ac1-9af7-9278819ba706"
      },
      "execution_count": null,
      "outputs": [
        {
          "output_type": "stream",
          "name": "stdout",
          "text": [
            "[[3 4]\n",
            " [2 4]\n",
            " [7 4]\n",
            " [3 5]\n",
            " [2 5]\n",
            " [7 5]]\n"
          ]
        }
      ]
    },
    {
      "cell_type": "markdown",
      "source": [
        "## How to add a border around a NumPy array?"
      ],
      "metadata": {
        "id": "DzqXGpv1W0VW"
      }
    },
    {
      "cell_type": "code",
      "source": [
        "arr = np.array([[1, 2, 3],\n",
        "                [4, 5, 6],\n",
        "                [7, 8, 9]])\n",
        "\n",
        "pad_width = 1\n",
        "arr_result = np.pad(arr, pad_width=pad_width, mode='constant')\n",
        "\n",
        "print(arr_result)"
      ],
      "metadata": {
        "colab": {
          "base_uri": "https://localhost:8080/"
        },
        "id": "e3BNR8tT5Rc-",
        "outputId": "80808b07-0702-4c4f-d859-cd572e50891a"
      },
      "execution_count": null,
      "outputs": [
        {
          "output_type": "stream",
          "name": "stdout",
          "text": [
            "[[0 0 0 0 0]\n",
            " [0 1 2 3 0]\n",
            " [0 4 5 6 0]\n",
            " [0 7 8 9 0]\n",
            " [0 0 0 0 0]]\n"
          ]
        }
      ]
    },
    {
      "cell_type": "markdown",
      "source": [
        "## How to compare two NumPy arrays?"
      ],
      "metadata": {
        "id": "YBFV9b1CW1UO"
      }
    },
    {
      "cell_type": "code",
      "source": [
        "arr1 = np.array([1, 2, 3])\n",
        "arr2 = np.array([1, 2, 4])\n",
        "\n",
        "comparison = arr1 == arr2\n",
        "print(comparison)\n",
        "print(\"Are the arrays the same? \", np.array_equal(arr1, arr2))"
      ],
      "metadata": {
        "colab": {
          "base_uri": "https://localhost:8080/"
        },
        "id": "RVNz2mdJ5nfy",
        "outputId": "5a4be1fc-8512-4bf4-abb4-6292f7053ca6"
      },
      "execution_count": null,
      "outputs": [
        {
          "output_type": "stream",
          "name": "stdout",
          "text": [
            "[ True  True False]\n",
            "Are the arrays the same?  False\n"
          ]
        }
      ]
    },
    {
      "cell_type": "markdown",
      "source": [
        "## How to check whether specified values are present in NumPy array?"
      ],
      "metadata": {
        "id": "rZ9h7so4W2bd"
      }
    },
    {
      "cell_type": "code",
      "source": [
        "given_values = [1, 2, 3, 10]\n",
        "arr = np.array([[1, 2, 3],\n",
        "                [4, 5, 6],\n",
        "                [7, 8, 9]])\n",
        "\n",
        "values = np.unique(arr)\n",
        "\n",
        "is_present = []\n",
        "for value in given_values:\n",
        "  is_present.append(value in arr)\n",
        "\n",
        "print(is_present)"
      ],
      "metadata": {
        "colab": {
          "base_uri": "https://localhost:8080/"
        },
        "id": "nTKf-sTO6ybN",
        "outputId": "d1907ea5-c62c-479d-aa15-a2c81f812caa"
      },
      "execution_count": null,
      "outputs": [
        {
          "output_type": "stream",
          "name": "stdout",
          "text": [
            "[True, True, True, False]\n"
          ]
        }
      ]
    },
    {
      "cell_type": "markdown",
      "source": [
        "## How to get all 2D diagonals of a 3D NumPy array?"
      ],
      "metadata": {
        "id": "RpS8Qwo1W3el"
      }
    },
    {
      "cell_type": "code",
      "source": [
        "arr_3d = np.array([[[1, 2, 3],\n",
        "                    [4, 5, 6],\n",
        "                    [7, 8, 9]],\n",
        "\n",
        "                   [[10, 11, 12],\n",
        "                    [13, 14, 15],\n",
        "                    [16, 17, 18]],\n",
        "\n",
        "                   [[19, 20, 21],\n",
        "                    [22, 23, 24],\n",
        "                    [25, 26, 27]]])\n",
        "\n",
        "diagonals = []\n",
        "for i in range(arr_3d.shape[0]):\n",
        "  diagonals.append(np.diagonal(arr_3d[i]))\n",
        "print(diagonals)"
      ],
      "metadata": {
        "colab": {
          "base_uri": "https://localhost:8080/"
        },
        "id": "wk3yDQdy8hor",
        "outputId": "6e759cf8-41e7-4ffe-e083-d4bea928fa03"
      },
      "execution_count": null,
      "outputs": [
        {
          "output_type": "stream",
          "name": "stdout",
          "text": [
            "[array([1, 5, 9]), array([10, 14, 18]), array([19, 23, 27])]\n"
          ]
        }
      ]
    },
    {
      "cell_type": "markdown",
      "source": [
        "## Flatten a Matrix in Python using NumPy"
      ],
      "metadata": {
        "id": "95bUg9rQW4ft"
      }
    },
    {
      "cell_type": "code",
      "source": [
        "matrix = np.array([[1, 2, 3],\n",
        "                   [4, 5, 6],\n",
        "                   [7, 8, 9]])\n",
        "\n",
        "result = matrix.flatten()\n",
        "print(result)"
      ],
      "metadata": {
        "colab": {
          "base_uri": "https://localhost:8080/"
        },
        "id": "3_tthPFQ9yyG",
        "outputId": "1f5de1ef-02a7-41fe-b5ed-b656040af152"
      },
      "execution_count": null,
      "outputs": [
        {
          "output_type": "stream",
          "name": "stdout",
          "text": [
            "[1 2 3 4 5 6 7 8 9]\n"
          ]
        }
      ]
    },
    {
      "cell_type": "markdown",
      "source": [
        "## Flatten a 2d numpy array into 1d array"
      ],
      "metadata": {
        "id": "QYzSI5c7W5av"
      }
    },
    {
      "cell_type": "code",
      "source": [
        "array = np.array([[1, 2],\n",
        "                  [4, 5]])\n",
        "\n",
        "print(array.flatten())"
      ],
      "metadata": {
        "colab": {
          "base_uri": "https://localhost:8080/"
        },
        "id": "nprsPwRq-A9B",
        "outputId": "871f9edc-5554-48f7-a8d0-71d20ab7c259"
      },
      "execution_count": null,
      "outputs": [
        {
          "output_type": "stream",
          "name": "stdout",
          "text": [
            "[1 2 4 5]\n"
          ]
        }
      ]
    },
    {
      "cell_type": "markdown",
      "source": [
        "## Move axes of an array to new positions"
      ],
      "metadata": {
        "id": "JqaCS6mBW6Xc"
      }
    },
    {
      "cell_type": "code",
      "source": [
        "arr = np.array([[1, 2, 3],\n",
        "                [4, 5, 6]])\n",
        "\n",
        "# Mover os eixos para novas posições usando numpy.moveaxis()\n",
        "result = np.moveaxis(arr, source=[0, 1], destination=[1, 0])\n",
        "\n",
        "print(result)"
      ],
      "metadata": {
        "colab": {
          "base_uri": "https://localhost:8080/"
        },
        "id": "3HLkou9I_OTj",
        "outputId": "bff03711-80b0-4f89-d5e2-68aad82d274b"
      },
      "execution_count": null,
      "outputs": [
        {
          "output_type": "stream",
          "name": "stdout",
          "text": [
            "[[1 4]\n",
            " [2 5]\n",
            " [3 6]]\n"
          ]
        }
      ]
    },
    {
      "cell_type": "markdown",
      "source": [
        "## Interchange two axes of an array"
      ],
      "metadata": {
        "id": "Um4ajo6kW7SX"
      }
    },
    {
      "cell_type": "code",
      "source": [
        "arr = np.array([[1, 2, 3],\n",
        "                [4, 5, 6]])\n",
        "\n",
        "result = np.swapaxes(arr, 0, 1)\n",
        "print(result)"
      ],
      "metadata": {
        "colab": {
          "base_uri": "https://localhost:8080/"
        },
        "id": "WJrJSgoq_pOc",
        "outputId": "691bcfa3-e564-4882-faa3-afdf62844c77"
      },
      "execution_count": null,
      "outputs": [
        {
          "output_type": "stream",
          "name": "stdout",
          "text": [
            "[[1 4]\n",
            " [2 5]\n",
            " [3 6]]\n"
          ]
        }
      ]
    },
    {
      "cell_type": "markdown",
      "source": [
        "## NumPy – Fibonacci Series using Binet Formula"
      ],
      "metadata": {
        "id": "45o5wOFqW7Wx"
      }
    },
    {
      "cell_type": "code",
      "source": [
        "def fibonacci(n):\n",
        "    sqrt5 = np.sqrt(5)\n",
        "    phi = (1 + sqrt5) / 2\n",
        "    psi = (1 - sqrt5) / 2\n",
        "    fib_n = np.rint((phi**n - psi**n) / sqrt5)\n",
        "    return fib_n.astype(int)\n",
        "\n",
        "n = 10\n",
        "fibonacci_series = fibonacci(np.arange(n))\n",
        "\n",
        "print(fibonacci_series)"
      ],
      "metadata": {
        "colab": {
          "base_uri": "https://localhost:8080/"
        },
        "id": "IOA9Uy20_5Fj",
        "outputId": "24fbba80-458a-4fa0-ec1b-fa5f36b9f7bd"
      },
      "execution_count": null,
      "outputs": [
        {
          "output_type": "stream",
          "name": "stdout",
          "text": [
            "[ 0  1  1  2  3  5  8 13 21 34]\n"
          ]
        }
      ]
    },
    {
      "cell_type": "markdown",
      "source": [
        "## Counts the number of non-zero values in the array"
      ],
      "metadata": {
        "id": "Cfkyfxj2W99m"
      }
    },
    {
      "cell_type": "code",
      "source": [
        "arr = np.array([[1, 2, 3],\n",
        "                [4, 5, 6],\n",
        "                [0, 0, 7]])\n",
        "\n",
        "print(np.count_nonzero(arr))"
      ],
      "metadata": {
        "colab": {
          "base_uri": "https://localhost:8080/"
        },
        "id": "Fr4ERv-FBIyM",
        "outputId": "7d9f98c6-b780-40ca-e5e5-e1f483b514eb"
      },
      "execution_count": null,
      "outputs": [
        {
          "output_type": "stream",
          "name": "stdout",
          "text": [
            "7\n"
          ]
        }
      ]
    },
    {
      "cell_type": "markdown",
      "source": [
        "## Count the number of elements along a given axis"
      ],
      "metadata": {
        "id": "r4CqpRavW_Ad"
      }
    },
    {
      "cell_type": "code",
      "source": [
        "arr = np.array([[1, 2, 3],\n",
        "                [4, 5, 6]])\n",
        "\n",
        "count_rows = arr.shape[0]\n",
        "count_columns = arr.shape[1]\n",
        "\n",
        "print(\"Number of rows:\", count_rows)\n",
        "print(\"Number of columns:\", count_columns)"
      ],
      "metadata": {
        "colab": {
          "base_uri": "https://localhost:8080/"
        },
        "id": "scaWQFF_Be0n",
        "outputId": "5f2ebd18-bca0-492c-ba05-72fdded826c4"
      },
      "execution_count": null,
      "outputs": [
        {
          "output_type": "stream",
          "name": "stdout",
          "text": [
            "Number of rows: 2\n",
            "Number of columns: 3\n"
          ]
        }
      ]
    },
    {
      "cell_type": "markdown",
      "source": [
        "## Trim the leading and/or trailing zeros from a 1-D array"
      ],
      "metadata": {
        "id": "xZtLx-wdXAPE"
      }
    },
    {
      "cell_type": "code",
      "source": [
        "arr = np.array([0, 1, 2, 3, 0, 0])\n",
        "\n",
        "result = np.trim_zeros(arr)\n",
        "print(result)"
      ],
      "metadata": {
        "colab": {
          "base_uri": "https://localhost:8080/"
        },
        "id": "nyZ5E5hoCuBS",
        "outputId": "1bfbd4ef-08d2-4873-8369-bbcef1d62e37"
      },
      "execution_count": null,
      "outputs": [
        {
          "output_type": "stream",
          "name": "stdout",
          "text": [
            "[1 2 3]\n"
          ]
        }
      ]
    },
    {
      "cell_type": "markdown",
      "source": [
        "## Change data type of given numpy array"
      ],
      "metadata": {
        "id": "HrCU2u2UXBVI"
      }
    },
    {
      "cell_type": "code",
      "source": [
        "arr = np.array([[1, 2, 3],\n",
        "                [4, 5, 6]])\n",
        "\n",
        "result = arr.astype(float)\n",
        "print(result)"
      ],
      "metadata": {
        "colab": {
          "base_uri": "https://localhost:8080/"
        },
        "id": "xSZEbkRmCymz",
        "outputId": "3e860da9-1f78-4ed1-c370-7c2bd62eeac5"
      },
      "execution_count": null,
      "outputs": [
        {
          "output_type": "stream",
          "name": "stdout",
          "text": [
            "[[1. 2. 3.]\n",
            " [4. 5. 6.]]\n"
          ]
        }
      ]
    },
    {
      "cell_type": "markdown",
      "source": [
        "## Reverse a numpy array"
      ],
      "metadata": {
        "id": "iceW1CO4XCRF"
      }
    },
    {
      "cell_type": "code",
      "source": [
        "arr = np.array([[1, 2, 3],\n",
        "                [4, 5, 6]])\n",
        "\n",
        "arr = np.flip(arr)\n",
        "print(arr)"
      ],
      "metadata": {
        "colab": {
          "base_uri": "https://localhost:8080/"
        },
        "id": "1vR8t8J8DJ3Y",
        "outputId": "bb8d9fc9-e505-44dc-db0f-8f3e8c10fcda"
      },
      "execution_count": null,
      "outputs": [
        {
          "output_type": "stream",
          "name": "stdout",
          "text": [
            "[[6 5 4]\n",
            " [3 2 1]]\n"
          ]
        }
      ]
    },
    {
      "cell_type": "markdown",
      "source": [
        "## How to make a NumPy array read-only?"
      ],
      "metadata": {
        "id": "Z6JaIXM0XDFx"
      }
    },
    {
      "cell_type": "code",
      "source": [
        "arr = np.array([[1, 2, 3],\n",
        "                [4, 5, 6]])\n",
        "\n",
        "arr.flags.writeable = False\n",
        "\n",
        "#arr[0] = [2, 3, 4]"
      ],
      "metadata": {
        "colab": {
          "base_uri": "https://localhost:8080/",
          "height": 200
        },
        "id": "tibL7aPjDeJC",
        "outputId": "bff9231d-89ef-49c3-9e81-9d0be98edbfd"
      },
      "execution_count": null,
      "outputs": [
        {
          "output_type": "error",
          "ename": "ValueError",
          "evalue": "ignored",
          "traceback": [
            "\u001b[0;31m---------------------------------------------------------------------------\u001b[0m",
            "\u001b[0;31mValueError\u001b[0m                                Traceback (most recent call last)",
            "\u001b[0;32m<ipython-input-87-0bfb28b129cf>\u001b[0m in \u001b[0;36m<cell line: 6>\u001b[0;34m()\u001b[0m\n\u001b[1;32m      4\u001b[0m \u001b[0marr\u001b[0m\u001b[0;34m.\u001b[0m\u001b[0mflags\u001b[0m\u001b[0;34m.\u001b[0m\u001b[0mwriteable\u001b[0m \u001b[0;34m=\u001b[0m \u001b[0;32mFalse\u001b[0m\u001b[0;34m\u001b[0m\u001b[0;34m\u001b[0m\u001b[0m\n\u001b[1;32m      5\u001b[0m \u001b[0;34m\u001b[0m\u001b[0m\n\u001b[0;32m----> 6\u001b[0;31m \u001b[0marr\u001b[0m\u001b[0;34m[\u001b[0m\u001b[0;36m0\u001b[0m\u001b[0;34m]\u001b[0m \u001b[0;34m=\u001b[0m \u001b[0;34m[\u001b[0m\u001b[0;36m2\u001b[0m\u001b[0;34m,\u001b[0m \u001b[0;36m3\u001b[0m\u001b[0;34m,\u001b[0m \u001b[0;36m4\u001b[0m\u001b[0;34m]\u001b[0m\u001b[0;34m\u001b[0m\u001b[0;34m\u001b[0m\u001b[0m\n\u001b[0m",
            "\u001b[0;31mValueError\u001b[0m: assignment destination is read-only"
          ]
        }
      ]
    },
    {
      "cell_type": "markdown",
      "source": [
        "#Questions on NumPy Matrix"
      ],
      "metadata": {
        "id": "KmRj0EJGXD32"
      }
    },
    {
      "cell_type": "markdown",
      "source": [
        "## Get the maximum value from given matrix"
      ],
      "metadata": {
        "id": "6c7IIV1SXHSI"
      }
    },
    {
      "cell_type": "code",
      "source": [
        "matrix = np.array([[1, 2, 3],\n",
        "                   [4, 5, 6]])\n",
        "\n",
        "print(matrix.max())"
      ],
      "metadata": {
        "colab": {
          "base_uri": "https://localhost:8080/"
        },
        "id": "f_hHpzGrD6DN",
        "outputId": "e53f8082-96da-40fe-bd29-d52b98c1d3f3"
      },
      "execution_count": null,
      "outputs": [
        {
          "output_type": "stream",
          "name": "stdout",
          "text": [
            "6\n"
          ]
        }
      ]
    },
    {
      "cell_type": "markdown",
      "source": [
        "## Get the minimum value from given matrix"
      ],
      "metadata": {
        "id": "JzeG7LvHXW3z"
      }
    },
    {
      "cell_type": "code",
      "source": [
        "matrix = np.array([[1, 2, 3],\n",
        "                   [4, 5, 6]])\n",
        "\n",
        "print(matrix.min())"
      ],
      "metadata": {
        "colab": {
          "base_uri": "https://localhost:8080/"
        },
        "id": "nSmYKAeHEVMz",
        "outputId": "2603c960-14fd-4b9d-ceab-54629c4d30ab"
      },
      "execution_count": null,
      "outputs": [
        {
          "output_type": "stream",
          "name": "stdout",
          "text": [
            "1\n"
          ]
        }
      ]
    },
    {
      "cell_type": "markdown",
      "source": [
        "## Find the number of rows and columns of a given matrix using NumPy"
      ],
      "metadata": {
        "id": "q9MSXpuGXXyO"
      }
    },
    {
      "cell_type": "code",
      "source": [
        "matrix = np.array([[1, 2, 3],\n",
        "                   [4, 5, 6],\n",
        "                   [7, 8, 9]])\n",
        "\n",
        "rows, columns = matrix.shape\n",
        "\n",
        "print(\"Number of rows:\", rows)\n",
        "print(\"Number of columns:\", columns)\n",
        "\n",
        "# OR\n",
        "#rows = matrix.shape[0]\n",
        "#columns = matrix.shape[1]\n",
        "\n",
        "#print(\"Number of rows:\", rows)\n",
        "#print(\"Number of columns:\", columns)"
      ],
      "metadata": {
        "colab": {
          "base_uri": "https://localhost:8080/"
        },
        "id": "_qJ3c-yNEbOz",
        "outputId": "de0d51c8-f7a5-456b-9410-7910536c9a2a"
      },
      "execution_count": null,
      "outputs": [
        {
          "output_type": "stream",
          "name": "stdout",
          "text": [
            "Number of rows: 3\n",
            "Number of columns: 3\n"
          ]
        }
      ]
    },
    {
      "cell_type": "markdown",
      "source": [
        "## Select the elements from a given matrix"
      ],
      "metadata": {
        "id": "yiQzvdwVXYsp"
      }
    },
    {
      "cell_type": "code",
      "source": [
        "matrix = np.array([[1, 2, 3],\n",
        "                   [4, 5, 6],\n",
        "                   [7, 8, 9]])\n",
        "\n",
        "element = matrix[1, 2]\n",
        "print(element)\n",
        "\n",
        "elements = matrix[:, 2] # -> matrix[0, 2] matrix[1, 2] matrix[2, 2]\n",
        "print(elements)\n",
        "\n",
        "elements = matrix[matrix > 5]\n",
        "print(elements)"
      ],
      "metadata": {
        "id": "4Sdkjmo8E_Qj",
        "colab": {
          "base_uri": "https://localhost:8080/"
        },
        "outputId": "788fac25-cda4-4a02-efa0-7c3a7a52c68e"
      },
      "execution_count": null,
      "outputs": [
        {
          "output_type": "stream",
          "name": "stdout",
          "text": [
            "6\n",
            "[3 6 9]\n",
            "[6 7 8 9]\n"
          ]
        }
      ]
    },
    {
      "cell_type": "markdown",
      "source": [
        "## Find the sum of values in a matrix"
      ],
      "metadata": {
        "id": "QMevcp-kXZv8"
      }
    },
    {
      "cell_type": "code",
      "source": [
        "matrix = np.array([[1, 2, 3],\n",
        "                   [4, 5, 6],\n",
        "                   [7, 8, 9]])\n",
        "\n",
        "print(matrix.sum())"
      ],
      "metadata": {
        "colab": {
          "base_uri": "https://localhost:8080/"
        },
        "id": "rHGrvYuWumhw",
        "outputId": "77963519-e11c-4f42-cf8b-e7f6ecccdee8"
      },
      "execution_count": null,
      "outputs": [
        {
          "output_type": "stream",
          "name": "stdout",
          "text": [
            "45\n"
          ]
        }
      ]
    },
    {
      "cell_type": "markdown",
      "source": [
        "## Calculate the sum of the diagonal elements of a NumPy array"
      ],
      "metadata": {
        "id": "ry27lf3WXbXY"
      }
    },
    {
      "cell_type": "code",
      "source": [
        "matrix = np.array([[1, 2, 3],\n",
        "                   [4, 5, 6],\n",
        "                   [7, 8, 9]])\n",
        "\n",
        "print(np.trace(matrix))"
      ],
      "metadata": {
        "colab": {
          "base_uri": "https://localhost:8080/"
        },
        "id": "eDZxJJ7uuveP",
        "outputId": "e786b586-908c-4e15-a3df-348390c86c3f"
      },
      "execution_count": null,
      "outputs": [
        {
          "output_type": "stream",
          "name": "stdout",
          "text": [
            "15\n"
          ]
        }
      ]
    },
    {
      "cell_type": "markdown",
      "source": [
        "## Adding and Subtracting Matrices in Python"
      ],
      "metadata": {
        "id": "poDhXL0uXcZz"
      }
    },
    {
      "cell_type": "code",
      "source": [
        "matrix1 = np.array([[1, 2, 3],\n",
        "                    [4, 5, 6],])\n",
        "\n",
        "matrix2 = np.array([[7, 8, 9],\n",
        "                    [10, 11, 12],])\n",
        "\n",
        "print(matrix1 + matrix2)\n",
        "print(matrix1 - matrix2)"
      ],
      "metadata": {
        "colab": {
          "base_uri": "https://localhost:8080/"
        },
        "id": "A8Gh_SpqvRjV",
        "outputId": "4598bee6-7f1f-4bb5-a12c-09849aa9f321"
      },
      "execution_count": null,
      "outputs": [
        {
          "output_type": "stream",
          "name": "stdout",
          "text": [
            "[[ 8 10 12]\n",
            " [14 16 18]]\n",
            "[[-6 -6 -6]\n",
            " [-6 -6 -6]]\n"
          ]
        }
      ]
    },
    {
      "cell_type": "markdown",
      "source": [
        "## Ways to add row/columns in numpy array"
      ],
      "metadata": {
        "id": "408SuzUrXdg0"
      }
    },
    {
      "cell_type": "markdown",
      "source": [
        "### vstack and hstack"
      ],
      "metadata": {
        "id": "8-Pvi1ppwGaU"
      }
    },
    {
      "cell_type": "code",
      "source": [
        "arr = np.array([[1, 2, 3],\n",
        "                [4, 5, 6]])\n",
        "\n",
        "# Adding a row\n",
        "row = np.array([[7, 8, 9]])\n",
        "new_arr_row = np.vstack((arr, row))\n",
        "\n",
        "# Adding a column\n",
        "column = np.array([[10],\n",
        "                   [11]])\n",
        "new_arr_column = np.hstack((arr, column))\n",
        "\n",
        "print(new_arr_row)\n",
        "print(new_arr_column)"
      ],
      "metadata": {
        "colab": {
          "base_uri": "https://localhost:8080/"
        },
        "id": "fvYEoY-lvsEx",
        "outputId": "2997ca9c-e302-4ca1-edc9-436c5a2c14a5"
      },
      "execution_count": null,
      "outputs": [
        {
          "output_type": "stream",
          "name": "stdout",
          "text": [
            "[[1 2 3]\n",
            " [4 5 6]\n",
            " [7 8 9]]\n",
            "[[ 1  2  3 10]\n",
            " [ 4  5  6 11]]\n"
          ]
        }
      ]
    },
    {
      "cell_type": "markdown",
      "source": [
        "### Concatenate"
      ],
      "metadata": {
        "id": "0QPMgI5LwO86"
      }
    },
    {
      "cell_type": "code",
      "source": [
        "arr = np.array([[1, 2, 3],\n",
        "                [4, 5, 6]])\n",
        "\n",
        "# Adding a row\n",
        "row = np.array([[7, 8, 9]])\n",
        "new_arr_row = np.concatenate((arr, row), axis=0)\n",
        "\n",
        "# Adding a column\n",
        "column = np.array([[10],\n",
        "                   [11]])\n",
        "new_arr_column = np.concatenate((arr, column), axis=1)\n",
        "\n",
        "print(new_arr_row)\n",
        "print(new_arr_column)"
      ],
      "metadata": {
        "colab": {
          "base_uri": "https://localhost:8080/"
        },
        "id": "eHhsaq80v7pG",
        "outputId": "e8734aac-66f5-4aff-f8d1-37d25994c42b"
      },
      "execution_count": null,
      "outputs": [
        {
          "output_type": "stream",
          "name": "stdout",
          "text": [
            "[[1 2 3]\n",
            " [4 5 6]\n",
            " [7 8 9]]\n",
            "[[ 1  2  3 10]\n",
            " [ 4  5  6 11]]\n"
          ]
        }
      ]
    },
    {
      "cell_type": "markdown",
      "source": [
        "## Matrix Multiplication in NumPy"
      ],
      "metadata": {
        "id": "-Zg96ebeXeYh"
      }
    },
    {
      "cell_type": "code",
      "source": [
        "matrix1 = np.array([[1, 2],\n",
        "                    [3, 4]])\n",
        "\n",
        "matrix2 = np.array([[5, 6],\n",
        "                    [7, 8]])\n",
        "\n",
        "result1 = np.dot(matrix1, matrix2)\n",
        "\n",
        "# Matrix multiplication using @ operator\n",
        "result2 = matrix1 @ matrix2\n",
        "\n",
        "print(result1)\n",
        "print(result2)"
      ],
      "metadata": {
        "colab": {
          "base_uri": "https://localhost:8080/"
        },
        "id": "fPhy_Gz_wqNP",
        "outputId": "571b54f7-4dd9-4eed-9203-8dd1ee4a3009"
      },
      "execution_count": null,
      "outputs": [
        {
          "output_type": "stream",
          "name": "stdout",
          "text": [
            "[[19 22]\n",
            " [43 50]]\n",
            "[[19 22]\n",
            " [43 50]]\n"
          ]
        }
      ]
    },
    {
      "cell_type": "markdown",
      "source": [
        "## Get the eigen values of a matrix"
      ],
      "metadata": {
        "id": "xGW8w1GdXfi0"
      }
    },
    {
      "cell_type": "code",
      "source": [
        "matrix = np.array([[1, 2],\n",
        "                   [3, 4]])\n",
        "\n",
        "eigenvalues = np.linalg.eigvals(matrix)\n",
        "\n",
        "print(eigenvalues)"
      ],
      "metadata": {
        "colab": {
          "base_uri": "https://localhost:8080/"
        },
        "id": "neWU8BDHww7u",
        "outputId": "76319b70-2f7d-4210-ec63-9a9c4c7bb433"
      },
      "execution_count": null,
      "outputs": [
        {
          "output_type": "stream",
          "name": "stdout",
          "text": [
            "[-0.37228132  5.37228132]\n"
          ]
        }
      ]
    },
    {
      "cell_type": "markdown",
      "source": [
        "## How to Calculate the determinant of a matrix using NumPy?"
      ],
      "metadata": {
        "id": "aiHWwt7rXgde"
      }
    },
    {
      "cell_type": "code",
      "source": [
        "matrix = np.array([[1, 2],\n",
        "                   [3, 4]])\n",
        "\n",
        "print(np.linalg.det(matrix))"
      ],
      "metadata": {
        "colab": {
          "base_uri": "https://localhost:8080/"
        },
        "id": "33WIUYGBxDSn",
        "outputId": "4d0bb4d8-280b-4b8a-c94d-2e1c57c7513f"
      },
      "execution_count": null,
      "outputs": [
        {
          "output_type": "stream",
          "name": "stdout",
          "text": [
            "-2.0000000000000004\n"
          ]
        }
      ]
    },
    {
      "cell_type": "markdown",
      "source": [
        "## How to inverse a matrix using NumPy"
      ],
      "metadata": {
        "id": "JCEaxDKFXh21"
      }
    },
    {
      "cell_type": "code",
      "source": [
        "matrix = np.array([[1, 2],\n",
        "                   [3, 4]])\n",
        "\n",
        "print(np.linalg.inv(matrix))"
      ],
      "metadata": {
        "colab": {
          "base_uri": "https://localhost:8080/"
        },
        "id": "UOebJaQLxYxH",
        "outputId": "59987a5a-a030-44ee-92d9-436c86047080"
      },
      "execution_count": null,
      "outputs": [
        {
          "output_type": "stream",
          "name": "stdout",
          "text": [
            "[[-2.   1. ]\n",
            " [ 1.5 -0.5]]\n"
          ]
        }
      ]
    },
    {
      "cell_type": "markdown",
      "source": [
        "## How to count the frequency of unique values in NumPy array?"
      ],
      "metadata": {
        "id": "-ZVvAbjCXiwc"
      }
    },
    {
      "cell_type": "code",
      "source": [
        "matrix = np.array([[1, 2],\n",
        "                   [3, 4],\n",
        "                   [1, 3]])\n",
        "\n",
        "values, counts = np.unique(matrix, return_counts=True)\n",
        "\n",
        "print(values, counts)\n",
        "\n",
        "for i in range(len(values)):\n",
        "  print(\"The value {} has appeared {} times\".format(values[i], counts[i]))"
      ],
      "metadata": {
        "colab": {
          "base_uri": "https://localhost:8080/"
        },
        "id": "vWyAq5nRxhxW",
        "outputId": "89082cde-6823-4153-c374-09d8b50e8aa0"
      },
      "execution_count": null,
      "outputs": [
        {
          "output_type": "stream",
          "name": "stdout",
          "text": [
            "[1 2 3 4] [2 1 2 1]\n",
            "The value 1 has appeared 2 times\n",
            "The value 2 has appeared 1 times\n",
            "The value 3 has appeared 2 times\n",
            "The value 4 has appeared 1 times\n"
          ]
        }
      ]
    },
    {
      "cell_type": "markdown",
      "source": [
        "## Multiply matrices of complex numbers using NumPy in Python"
      ],
      "metadata": {
        "id": "MmjTpG_QXjtO"
      }
    },
    {
      "cell_type": "code",
      "source": [
        "matrix1 = np.array([[3 + 2j, 2 + 6j],\n",
        "                    [1 + 5j, 3 + 5j]])\n",
        "\n",
        "matrix2 = np.array([[5 + 4j, 7 + 2j],\n",
        "                    [8 + 1j, 2 + 3j]])\n",
        "\n",
        "result1 = np.matmul(matrix1, matrix2)\n",
        "result2 = matrix1 @ matrix2\n",
        "\n",
        "print(result1)\n",
        "print(result2)"
      ],
      "metadata": {
        "colab": {
          "base_uri": "https://localhost:8080/"
        },
        "id": "fewLA49zyjZ-",
        "outputId": "37c9ef9f-a858-4519-ed69-99116e2cdaa0"
      },
      "execution_count": null,
      "outputs": [
        {
          "output_type": "stream",
          "name": "stdout",
          "text": [
            "[[ 17.+72.j   3.+38.j]\n",
            " [  4.+72.j -12.+56.j]]\n",
            "[[ 17.+72.j   3.+38.j]\n",
            " [  4.+72.j -12.+56.j]]\n"
          ]
        }
      ]
    },
    {
      "cell_type": "markdown",
      "source": [
        "## Compute the outer product of two given vectors using NumPy in Python"
      ],
      "metadata": {
        "id": "FOjrcrBrXkkd"
      }
    },
    {
      "cell_type": "code",
      "source": [
        "vector1 = np.array([1, 2, 3])\n",
        "vector2 = np.array([4, 5, 6])\n",
        "\n",
        "result = np.outer(vector1, vector2)\n",
        "print(result)"
      ],
      "metadata": {
        "colab": {
          "base_uri": "https://localhost:8080/"
        },
        "id": "O-5FIMZvy-Aq",
        "outputId": "8b929bf2-68c1-47eb-a5e4-84515e2fc24f"
      },
      "execution_count": null,
      "outputs": [
        {
          "output_type": "stream",
          "name": "stdout",
          "text": [
            "[[ 4  5  6]\n",
            " [ 8 10 12]\n",
            " [12 15 18]]\n"
          ]
        }
      ]
    },
    {
      "cell_type": "markdown",
      "source": [
        "## Calculate inner, outer, and cross products of matrices and vectors using NumPy"
      ],
      "metadata": {
        "id": "RnnO0y6_XlVc"
      }
    },
    {
      "cell_type": "markdown",
      "source": [
        "### Inner product"
      ],
      "metadata": {
        "id": "bgtjqujnzZVa"
      }
    },
    {
      "cell_type": "markdown",
      "source": [
        "#### In vectors"
      ],
      "metadata": {
        "id": "x1ANVCQyzvZT"
      }
    },
    {
      "cell_type": "code",
      "source": [
        "vector1 = np.array([1, 2, 3])\n",
        "vector2 = np.array([4, 5, 6])\n",
        "\n",
        "result1 = np.dot(vector1, vector2)\n",
        "result2 = vector1 @ vector2\n",
        "\n",
        "print(result1)\n",
        "print(result2)"
      ],
      "metadata": {
        "colab": {
          "base_uri": "https://localhost:8080/"
        },
        "id": "2rtKAD87zMV2",
        "outputId": "aa38d367-0b71-4d95-a16e-d51f2349be83"
      },
      "execution_count": null,
      "outputs": [
        {
          "output_type": "stream",
          "name": "stdout",
          "text": [
            "32\n",
            "32\n"
          ]
        }
      ]
    },
    {
      "cell_type": "markdown",
      "source": [
        "#### In matrices"
      ],
      "metadata": {
        "id": "sjKUSU_pz01Q"
      }
    },
    {
      "cell_type": "code",
      "source": [
        "matrix1 = np.array([[1, 2],\n",
        "                    [3, 4]])\n",
        "\n",
        "matrix2 = np.array([[5, 6],\n",
        "                    [7, 8]])\n",
        "\n",
        "result1 = np.matmul(matrix1, matrix2)\n",
        "result2 = matrix1 @ matrix2\n",
        "\n",
        "print(result1)\n",
        "print(result2)"
      ],
      "metadata": {
        "colab": {
          "base_uri": "https://localhost:8080/"
        },
        "id": "WntJO-MVz28B",
        "outputId": "695ce675-e324-4794-dfc0-eff0be53222d"
      },
      "execution_count": null,
      "outputs": [
        {
          "output_type": "stream",
          "name": "stdout",
          "text": [
            "[[19 22]\n",
            " [43 50]]\n",
            "[[19 22]\n",
            " [43 50]]\n"
          ]
        }
      ]
    },
    {
      "cell_type": "markdown",
      "source": [
        "### Outer product"
      ],
      "metadata": {
        "id": "iAO4oTwJzcDU"
      }
    },
    {
      "cell_type": "markdown",
      "source": [
        "#### In vectors"
      ],
      "metadata": {
        "id": "Ymr7EVY6z9FQ"
      }
    },
    {
      "cell_type": "code",
      "source": [
        "vector1 = np.array([1, 2, 3])\n",
        "vector2 = np.array([4, 5, 6])\n",
        "\n",
        "result = np.outer(vector1, vector2)\n",
        "print(result)"
      ],
      "metadata": {
        "colab": {
          "base_uri": "https://localhost:8080/"
        },
        "id": "EV1xJrgdzgMh",
        "outputId": "f81242b1-b374-4b81-bf1d-340552362d70"
      },
      "execution_count": null,
      "outputs": [
        {
          "output_type": "stream",
          "name": "stdout",
          "text": [
            "[[ 4  5  6]\n",
            " [ 8 10 12]\n",
            " [12 15 18]]\n"
          ]
        }
      ]
    },
    {
      "cell_type": "markdown",
      "source": [
        "#### In matrices"
      ],
      "metadata": {
        "id": "4EUSdk7n0Ah6"
      }
    },
    {
      "cell_type": "code",
      "source": [
        "matrix1 = np.array([[1, 2],\n",
        "                    [3, 4]])\n",
        "\n",
        "matrix2 = np.array([[5, 6],\n",
        "                    [7, 8]])\n",
        "\n",
        "result = np.kron(matrix1, matrix2)\n",
        "print(result)"
      ],
      "metadata": {
        "colab": {
          "base_uri": "https://localhost:8080/"
        },
        "id": "SzVuPpD90B0u",
        "outputId": "0117592a-c092-4f6f-9a0e-caa5787b6497"
      },
      "execution_count": null,
      "outputs": [
        {
          "output_type": "stream",
          "name": "stdout",
          "text": [
            "[[ 5  6 10 12]\n",
            " [ 7  8 14 16]\n",
            " [15 18 20 24]\n",
            " [21 24 28 32]]\n"
          ]
        }
      ]
    },
    {
      "cell_type": "markdown",
      "source": [
        "### Cross product"
      ],
      "metadata": {
        "id": "tqKhny5Qzgd_"
      }
    },
    {
      "cell_type": "code",
      "source": [
        "vector1 = np.array([1, 2, 3])\n",
        "vector2 = np.array([4, 5, 6])\n",
        "\n",
        "result = np.cross(vector1, vector2) # mesma forma pra matrizes, limitada à ser 3D\n",
        "print(result)"
      ],
      "metadata": {
        "colab": {
          "base_uri": "https://localhost:8080/"
        },
        "id": "PkVuWKbS0Rc0",
        "outputId": "0a33ee72-2e25-48f3-b809-0083d1a4af33"
      },
      "execution_count": null,
      "outputs": [
        {
          "output_type": "stream",
          "name": "stdout",
          "text": [
            "[-3  6 -3]\n"
          ]
        }
      ]
    },
    {
      "cell_type": "markdown",
      "source": [
        "## Compute the covariance matrix of two given NumPy arrays"
      ],
      "metadata": {
        "id": "1RFY9aBKXmMY"
      }
    },
    {
      "cell_type": "code",
      "source": [
        "vector1 = np.array([1, 2, 3])\n",
        "vector2 = np.array([4, 5, 6])\n",
        "\n",
        "result = np.cov(vector1, vector2)\n",
        "print(result)"
      ],
      "metadata": {
        "colab": {
          "base_uri": "https://localhost:8080/"
        },
        "id": "e1MscCeZ1AB7",
        "outputId": "c3be0b61-60de-414e-a989-39d4a93d4b74"
      },
      "execution_count": null,
      "outputs": [
        {
          "output_type": "stream",
          "name": "stdout",
          "text": [
            "[[1. 1.]\n",
            " [1. 1.]]\n"
          ]
        }
      ]
    },
    {
      "cell_type": "markdown",
      "source": [
        "## Convert covariance matrix to correlation matrix using Python"
      ],
      "metadata": {
        "id": "KEuoUpLCXnhi"
      }
    },
    {
      "cell_type": "code",
      "source": [
        "vector1 = np.array([1, 2, 3, 4, 5])\n",
        "vector2 = np.array([5, 4, 3, 2, 1])\n",
        "\n",
        "covariance_matrix = np.cov(vector1, vector2)\n",
        "correlation_matrix = np.corrcoef(covariance_matrix)\n",
        "print(correlation_matrix)"
      ],
      "metadata": {
        "colab": {
          "base_uri": "https://localhost:8080/"
        },
        "id": "U9CGISjv1Tq9",
        "outputId": "802b4876-e030-4626-ce6b-de4dd7c09e4a"
      },
      "execution_count": null,
      "outputs": [
        {
          "output_type": "stream",
          "name": "stdout",
          "text": [
            "[[ 1. -1.]\n",
            " [-1.  1.]]\n"
          ]
        }
      ]
    },
    {
      "cell_type": "markdown",
      "source": [
        "## Compute the Kronecker product of two mulitdimension NumPy arrays"
      ],
      "metadata": {
        "id": "AyrboEPjXode"
      }
    },
    {
      "cell_type": "code",
      "source": [
        "arr1 = np.array([[1, 2],\n",
        "                 [3, 4]])\n",
        "\n",
        "arr2 = np.array([[5, 6],\n",
        "                 [7, 8]])\n",
        "\n",
        "result = np.kron(arr1, arr2)\n",
        "\n",
        "print(result)"
      ],
      "metadata": {
        "colab": {
          "base_uri": "https://localhost:8080/"
        },
        "id": "D7hc58Kx2Euh",
        "outputId": "4eaa6c4d-9efa-46d8-9467-b77a05234ab9"
      },
      "execution_count": null,
      "outputs": [
        {
          "output_type": "stream",
          "name": "stdout",
          "text": [
            "[[ 5  6 10 12]\n",
            " [ 7  8 14 16]\n",
            " [15 18 20 24]\n",
            " [21 24 28 32]]\n"
          ]
        }
      ]
    },
    {
      "cell_type": "markdown",
      "source": [
        "## Convert the matrix into a list"
      ],
      "metadata": {
        "id": "gbKUwuZIXpSO"
      }
    },
    {
      "cell_type": "code",
      "source": [
        "matrix = np.array([[1, 2],\n",
        "                   [3, 4]])\n",
        "\n",
        "print(matrix.tolist())"
      ],
      "metadata": {
        "colab": {
          "base_uri": "https://localhost:8080/"
        },
        "id": "61LwJq5O2VIC",
        "outputId": "e7675496-d1a3-4141-abdf-b65ea5ec2119"
      },
      "execution_count": null,
      "outputs": [
        {
          "output_type": "stream",
          "name": "stdout",
          "text": [
            "[[1, 2], [3, 4]]\n"
          ]
        }
      ]
    },
    {
      "cell_type": "markdown",
      "source": [
        "#Questions on NumPy Indexing"
      ],
      "metadata": {
        "id": "KNTARHPbXp-g"
      }
    },
    {
      "cell_type": "markdown",
      "source": [
        "## Replace NumPy array elements that doesn’t satisfy the given condition"
      ],
      "metadata": {
        "id": "JuLm5jmgZNMb"
      }
    },
    {
      "cell_type": "code",
      "source": [
        "arr = np.array([1, 2, 3, 4, 5])\n",
        "\n",
        "condition = arr >= 4\n",
        "replace_with = -1\n",
        "arr[condition] = replace_with\n",
        "print(arr)"
      ],
      "metadata": {
        "colab": {
          "base_uri": "https://localhost:8080/"
        },
        "id": "rozoRGdF246R",
        "outputId": "6f68e4f3-6b22-46f6-dcc3-f0897e8e94e7"
      },
      "execution_count": null,
      "outputs": [
        {
          "output_type": "stream",
          "name": "stdout",
          "text": [
            "[ 1  2  3 -1 -1]\n"
          ]
        }
      ]
    },
    {
      "cell_type": "markdown",
      "source": [
        "## Return the indices of elements where the given condition is satisfied"
      ],
      "metadata": {
        "id": "Mrv7QJn5ZOTm"
      }
    },
    {
      "cell_type": "code",
      "source": [
        "arr = np.array([1, 2, 3, 4, 5])\n",
        "\n",
        "condition = arr >= 4\n",
        "indexes = np.where(condition)\n",
        "print(indexes)"
      ],
      "metadata": {
        "colab": {
          "base_uri": "https://localhost:8080/"
        },
        "id": "EkggIvuO3JD_",
        "outputId": "0402de98-3f7f-4c88-b29d-ff5645971b79"
      },
      "execution_count": null,
      "outputs": [
        {
          "output_type": "stream",
          "name": "stdout",
          "text": [
            "(array([3, 4]),)\n"
          ]
        }
      ]
    },
    {
      "cell_type": "markdown",
      "source": [
        "## Replace NaN values with average of columns"
      ],
      "metadata": {
        "id": "_RgoFIA3ZPYJ"
      }
    },
    {
      "cell_type": "code",
      "source": [
        "arr = np.array([[1, 2, np.nan],\n",
        "                [4, np.nan, 6],\n",
        "                [np.nan, 8, 9]])\n",
        "\n",
        "average_of_each_column = np.nanmean(arr, axis=0)\n",
        "average_of_columns = np.mean(average_of_each_column)\n",
        "nan_indexes = np.isnan(arr)\n",
        "\n",
        "arr[nan_indexes] = average_of_columns\n",
        "print(arr)"
      ],
      "metadata": {
        "colab": {
          "base_uri": "https://localhost:8080/"
        },
        "id": "dW6dFsfa3jyk",
        "outputId": "a9cc80e4-de53-42f3-b4a8-edb546173090"
      },
      "execution_count": null,
      "outputs": [
        {
          "output_type": "stream",
          "name": "stdout",
          "text": [
            "[[1. 2. 5.]\n",
            " [4. 5. 6.]\n",
            " [5. 8. 9.]]\n"
          ]
        }
      ]
    },
    {
      "cell_type": "markdown",
      "source": [
        "## Replace negative value with zero in numpy array"
      ],
      "metadata": {
        "id": "t6CtGI0BZQO8"
      }
    },
    {
      "cell_type": "code",
      "source": [
        "arr = np.array([1, 2, 3, 4, -1, -10])\n",
        "\n",
        "condition = arr <= 0\n",
        "replace_with = 0\n",
        "arr[condition] = replace_with\n",
        "print(arr)"
      ],
      "metadata": {
        "colab": {
          "base_uri": "https://localhost:8080/"
        },
        "id": "3vzs9FAVViFL",
        "outputId": "1a307453-a87f-4b48-8d39-2b056128832e"
      },
      "execution_count": null,
      "outputs": [
        {
          "output_type": "stream",
          "name": "stdout",
          "text": [
            "[1 2 3 4 0 0]\n"
          ]
        }
      ]
    },
    {
      "cell_type": "markdown",
      "source": [
        "## How to get values of an NumPy array at certain index positions?"
      ],
      "metadata": {
        "id": "6O_tvajsZRG6"
      }
    },
    {
      "cell_type": "code",
      "source": [
        "arr = np.array([1, 2, 3, 4, 5])\n",
        "index_positions = [0, 2, 4]\n",
        "values = arr[index_positions]\n",
        "print(values)"
      ],
      "metadata": {
        "colab": {
          "base_uri": "https://localhost:8080/"
        },
        "id": "QBWdszx9Vt-7",
        "outputId": "56628376-737b-4404-a1d8-dde6f3593c23"
      },
      "execution_count": null,
      "outputs": [
        {
          "output_type": "stream",
          "name": "stdout",
          "text": [
            "[1 3 5]\n"
          ]
        }
      ]
    },
    {
      "cell_type": "markdown",
      "source": [
        "## Find indices of elements equal to zero in a NumPy array"
      ],
      "metadata": {
        "id": "0ZPHPEAUZR8s"
      }
    },
    {
      "cell_type": "code",
      "source": [
        "arr = np.array([1, 2, 3, 0, 3, 1, 5, 0])\n",
        "zero_indexes1 = np.where(arr == 0)\n",
        "print(zero_indexes1)"
      ],
      "metadata": {
        "colab": {
          "base_uri": "https://localhost:8080/"
        },
        "id": "77b4yhkbV5JJ",
        "outputId": "75341dac-3e12-4a8d-9764-29ac1dfc94e3"
      },
      "execution_count": null,
      "outputs": [
        {
          "output_type": "stream",
          "name": "stdout",
          "text": [
            "(array([3, 7]),)\n"
          ]
        }
      ]
    },
    {
      "cell_type": "markdown",
      "source": [
        "## How to Remove columns in Numpy array that contains non-numeric values?"
      ],
      "metadata": {
        "id": "VRa584ErZSrS"
      }
    },
    {
      "cell_type": "code",
      "source": [
        "arr = np.array([[1, 2, 3],\n",
        "                [4, np.nan, 6],\n",
        "                [7, 8, 9]])\n",
        "\n",
        "arr_nan = np.isnan(arr)\n",
        "columns_nan = arr_nan.sum(axis=0)\n",
        "columns_nan_bool = columns_nan == 0\n",
        "filtered_array = arr[:, columns_nan_bool]\n",
        "\n",
        "print(filtered_array)"
      ],
      "metadata": {
        "colab": {
          "base_uri": "https://localhost:8080/"
        },
        "id": "fSsw3kwjWvaC",
        "outputId": "c76b82e9-4ca6-489e-e4e6-291259f6165e"
      },
      "execution_count": null,
      "outputs": [
        {
          "output_type": "stream",
          "name": "stdout",
          "text": [
            "[[1. 3.]\n",
            " [4. 6.]\n",
            " [7. 9.]]\n"
          ]
        }
      ]
    },
    {
      "cell_type": "markdown",
      "source": [
        "## How to access different rows of a multidimensional NumPy array?"
      ],
      "metadata": {
        "id": "oplwhpw4ZTrQ"
      }
    },
    {
      "cell_type": "code",
      "source": [
        "arr = np.array([[1, 2, 3],\n",
        "                [4, 5, 6],\n",
        "                [7, 8, 9]])\n",
        "\n",
        "row = arr[0]\n",
        "print(row)\n",
        "\n",
        "rows = arr[[0, 2]]\n",
        "print(rows)\n",
        "\n",
        "rows = arr[1:3]\n",
        "print(rows)"
      ],
      "metadata": {
        "colab": {
          "base_uri": "https://localhost:8080/"
        },
        "id": "LJp_65shXGMZ",
        "outputId": "a843a4d2-111d-4205-9c08-3c7f542813ef"
      },
      "execution_count": null,
      "outputs": [
        {
          "output_type": "stream",
          "name": "stdout",
          "text": [
            "[1 2 3]\n",
            "[[1 2 3]\n",
            " [7 8 9]]\n",
            "[[4 5 6]\n",
            " [7 8 9]]\n"
          ]
        }
      ]
    },
    {
      "cell_type": "markdown",
      "source": [
        "## Get row numbers of NumPy array having element larger than X"
      ],
      "metadata": {
        "id": "QCHOqvAWZUcm"
      }
    },
    {
      "cell_type": "code",
      "source": [
        "arr = np.array([[1, 2, 3],\n",
        "                [4, 5, 6],\n",
        "                [7, 8, 9]])\n",
        "\n",
        "x = 5\n",
        "any_in_rows_larger_than_x = np.any(arr > x, axis=1)\n",
        "rows_numbers = np.where(any_in_rows_larger_than_x)[0]\n",
        "print(rows_numbers)"
      ],
      "metadata": {
        "colab": {
          "base_uri": "https://localhost:8080/"
        },
        "id": "z59f99KCXajF",
        "outputId": "bb384c0c-7f5e-4b8a-a5f7-6b6860c41f46"
      },
      "execution_count": null,
      "outputs": [
        {
          "output_type": "stream",
          "name": "stdout",
          "text": [
            "[1 2]\n"
          ]
        }
      ]
    },
    {
      "cell_type": "markdown",
      "source": [
        "## Get filled the diagonals of NumPy array"
      ],
      "metadata": {
        "id": "Bpke9UkcZVTj"
      }
    },
    {
      "cell_type": "code",
      "source": [
        "arr = np.array([[1, 2, 3],\n",
        "                [4, 5, 6],\n",
        "                [7, 8, 9]])\n",
        "\n",
        "value = -1\n",
        "np.fill_diagonal(arr, value)\n",
        "print(arr)"
      ],
      "metadata": {
        "colab": {
          "base_uri": "https://localhost:8080/"
        },
        "id": "Vbt1TKYqYslA",
        "outputId": "22b274c6-5dd6-44e6-c577-0c045e6abf09"
      },
      "execution_count": null,
      "outputs": [
        {
          "output_type": "stream",
          "name": "stdout",
          "text": [
            "[[-1  2  3]\n",
            " [ 4 -1  6]\n",
            " [ 7  8 -1]]\n"
          ]
        }
      ]
    },
    {
      "cell_type": "markdown",
      "source": [
        "## Check elements present in the NumPy array"
      ],
      "metadata": {
        "id": "cCqYHeEmZWF5"
      }
    },
    {
      "cell_type": "code",
      "source": [
        "arr = np.array([1, 2, 3, 4, 5, 6, 1])\n",
        "values = np.array([1, 2, 3, 10])\n",
        "\n",
        "result = np.isin(values, arr)\n",
        "#print(result)\n",
        "present_values = values[result]\n",
        "#print(present_values)\n",
        "\n",
        "for i in range(len(result)):\n",
        "  present = \"\"\n",
        "  if not result[i]:\n",
        "    present = \"not \"\n",
        "  print(\"The value {} is {}present in numpy array\".format(values[i], present))"
      ],
      "metadata": {
        "colab": {
          "base_uri": "https://localhost:8080/"
        },
        "id": "AQuQLmoGZFm7",
        "outputId": "d01812ec-ee46-4671-ad7f-8f0d0615cffe"
      },
      "execution_count": null,
      "outputs": [
        {
          "output_type": "stream",
          "name": "stdout",
          "text": [
            "The value 1 is present in numpy array\n",
            "The value 2 is present in numpy array\n",
            "The value 3 is present in numpy array\n",
            "The value 10 is not present in numpy array\n"
          ]
        }
      ]
    },
    {
      "cell_type": "markdown",
      "source": [
        "## Combined array index by index"
      ],
      "metadata": {
        "id": "YXd4gT5eZWvL"
      }
    },
    {
      "cell_type": "markdown",
      "source": [
        "### Vertically"
      ],
      "metadata": {
        "id": "gHKFBAbobEEW"
      }
    },
    {
      "cell_type": "code",
      "source": [
        "arr1 = np.array([1, 2, 3])\n",
        "arr2 = np.array([4, 5, 6])\n",
        "\n",
        "result = np.vstack((arr1, arr2))\n",
        "print(result)"
      ],
      "metadata": {
        "colab": {
          "base_uri": "https://localhost:8080/"
        },
        "id": "tX3IAiDoa6ki",
        "outputId": "5c4316e6-9196-46f8-d19e-617f363736a5"
      },
      "execution_count": null,
      "outputs": [
        {
          "output_type": "stream",
          "name": "stdout",
          "text": [
            "[[1 2 3]\n",
            " [4 5 6]]\n"
          ]
        }
      ]
    },
    {
      "cell_type": "markdown",
      "source": [
        "### Horizontally"
      ],
      "metadata": {
        "id": "CB2tDOdsbHdY"
      }
    },
    {
      "cell_type": "code",
      "source": [
        "arr1 = np.array([1, 2, 3])\n",
        "arr2 = np.array([4, 5, 6])\n",
        "\n",
        "result = np.hstack((arr1, arr2))\n",
        "print(result)"
      ],
      "metadata": {
        "colab": {
          "base_uri": "https://localhost:8080/"
        },
        "id": "cipy7ZymbDYo",
        "outputId": "1dcbf793-7a6f-44c6-a0c7-74e2272a663e"
      },
      "execution_count": null,
      "outputs": [
        {
          "output_type": "stream",
          "name": "stdout",
          "text": [
            "[1 2 3 4 5 6]\n"
          ]
        }
      ]
    },
    {
      "cell_type": "markdown",
      "source": [
        "#Questions on NumPy Linear Algebra\n",
        "\n",
        "```\n",
        "numpy.linalg\n",
        "```"
      ],
      "metadata": {
        "id": "WQ7ThHdUZXX6"
      }
    },
    {
      "cell_type": "markdown",
      "source": [
        "## Find a matrix or vector norm using NumPy"
      ],
      "metadata": {
        "id": "DWWV31yaZZAz"
      }
    },
    {
      "cell_type": "code",
      "source": [
        "vector = np.array([1, 2, 3])\n",
        "\n",
        "matrix = np.array([[1, 2, 3],\n",
        "                   [4, 5, 6]])\n",
        "\n",
        "vector_norm = np.linalg.norm(vector)\n",
        "matrix_norm = np.linalg.norm(matrix)\n",
        "\n",
        "print(vector_norm)\n",
        "print(matrix_norm)"
      ],
      "metadata": {
        "colab": {
          "base_uri": "https://localhost:8080/"
        },
        "id": "5ZVVjKojbdIc",
        "outputId": "53ac3437-32ed-49cf-9edc-76984b3bc31f"
      },
      "execution_count": null,
      "outputs": [
        {
          "output_type": "stream",
          "name": "stdout",
          "text": [
            "3.7416573867739413\n",
            "9.539392014169456\n"
          ]
        }
      ]
    },
    {
      "cell_type": "markdown",
      "source": [
        "## Calculate the QR decomposition of a given matrix using NumPy"
      ],
      "metadata": {
        "id": "V0S0xpk3ZdUI"
      }
    },
    {
      "cell_type": "code",
      "source": [
        "matrix = np.array([[1, 2, 3],\n",
        "                   [4, 5, 6],\n",
        "                   [7, 8, 9]])\n",
        "\n",
        "q, r = np.linalg.qr(matrix)\n",
        "\n",
        "print(\"Q:\\n\", q)\n",
        "print(\"R:\\n\", r)"
      ],
      "metadata": {
        "colab": {
          "base_uri": "https://localhost:8080/"
        },
        "id": "s_xD_3qbbiDC",
        "outputId": "9cd1b448-4277-44df-d4a5-6895e2add581"
      },
      "execution_count": null,
      "outputs": [
        {
          "output_type": "stream",
          "name": "stdout",
          "text": [
            "Q:\n",
            " [[-0.12309149  0.90453403  0.40824829]\n",
            " [-0.49236596  0.30151134 -0.81649658]\n",
            " [-0.86164044 -0.30151134  0.40824829]]\n",
            "R:\n",
            " [[-8.12403840e+00 -9.60113630e+00 -1.10782342e+01]\n",
            " [ 0.00000000e+00  9.04534034e-01  1.80906807e+00]\n",
            " [ 0.00000000e+00  0.00000000e+00 -8.88178420e-16]]\n"
          ]
        }
      ]
    },
    {
      "cell_type": "markdown",
      "source": [
        "## Compute the condition number of a given matrix using NumPy"
      ],
      "metadata": {
        "id": "fleWzwcdZeD6"
      }
    },
    {
      "cell_type": "code",
      "source": [
        "matrix = np.array([[1, 2, 3],\n",
        "                   [4, 5, 6],\n",
        "                   [7, 8, 9]])\n",
        "\n",
        "condition_number = np.linalg.cond(matrix)\n",
        "print(condition_number)"
      ],
      "metadata": {
        "colab": {
          "base_uri": "https://localhost:8080/"
        },
        "id": "VdqCFBO4b1Rj",
        "outputId": "26972852-418e-4cbe-bf4c-25a3f2e03f34"
      },
      "execution_count": null,
      "outputs": [
        {
          "output_type": "stream",
          "name": "stdout",
          "text": [
            "3.813147060626918e+16\n"
          ]
        }
      ]
    },
    {
      "cell_type": "markdown",
      "source": [
        "## Compute the eigenvalues and right eigenvectors of a given square array using NumPy?"
      ],
      "metadata": {
        "id": "sxH5Df_3Ze7k"
      }
    },
    {
      "cell_type": "code",
      "source": [
        "arr = np.array([[1, 2],\n",
        "                [3, 4]])\n",
        "\n",
        "eigenvalues, right_eigenvectors = np.linalg.eig(arr)\n",
        "\n",
        "print(\"Eigenvalues:\\n\", eigenvalues)\n",
        "print(\"Right Eigenvectors:\\n\", right_eigenvectors)"
      ],
      "metadata": {
        "colab": {
          "base_uri": "https://localhost:8080/"
        },
        "id": "DY3z8HSYb60p",
        "outputId": "e22c62b9-7eb2-4828-f7fd-f7336061eb2d"
      },
      "execution_count": null,
      "outputs": [
        {
          "output_type": "stream",
          "name": "stdout",
          "text": [
            "Eigenvalues:\n",
            " [-0.37228132  5.37228132]\n",
            "Right Eigenvectors:\n",
            " [[-0.82456484 -0.41597356]\n",
            " [ 0.56576746 -0.90937671]]\n"
          ]
        }
      ]
    },
    {
      "cell_type": "markdown",
      "source": [
        "## Calculate the Euclidean distance using NumPy"
      ],
      "metadata": {
        "id": "80mr6UHZZf6W"
      }
    },
    {
      "cell_type": "code",
      "source": [
        "point1 = np.array([1, 2, 3])\n",
        "point2 = np.array([4, 5, 6])\n",
        "\n",
        "euclidean_distance = np.linalg.norm(point2 - point1)\n",
        "print(euclidean_distance)"
      ],
      "metadata": {
        "colab": {
          "base_uri": "https://localhost:8080/"
        },
        "id": "1zKP3zLRcK5z",
        "outputId": "0d82c6cc-50c1-4b8d-ea17-32fa48b7d2b5"
      },
      "execution_count": null,
      "outputs": [
        {
          "output_type": "stream",
          "name": "stdout",
          "text": [
            "5.196152422706632\n"
          ]
        }
      ]
    },
    {
      "cell_type": "markdown",
      "source": [
        "#Questions on NumPy Random\n",
        "\n",
        "```\n",
        "numpy.random\n",
        "```\n",
        "\n"
      ],
      "metadata": {
        "id": "Nw2EdraBZgtn"
      }
    },
    {
      "cell_type": "markdown",
      "source": [
        "## Create a Numpy array with random values"
      ],
      "metadata": {
        "id": "J3kNItEIZjO_"
      }
    },
    {
      "cell_type": "code",
      "source": [
        "array1 = np.random.rand(5)\n",
        "array2 = np.random.rand(3, 4)\n",
        "\n",
        "print(array1)\n",
        "print(array2)"
      ],
      "metadata": {
        "colab": {
          "base_uri": "https://localhost:8080/"
        },
        "id": "GJePReMLck-l",
        "outputId": "8b283c69-f7cd-49d1-a65b-8f4adb5be2f5"
      },
      "execution_count": null,
      "outputs": [
        {
          "output_type": "stream",
          "name": "stdout",
          "text": [
            "[0.17750606 0.75781358 0.62735173 0.10698053 0.57886737]\n",
            "[[0.14081685 0.02792777 0.50258691 0.11234309]\n",
            " [0.89805038 0.95206593 0.29918792 0.25206997]\n",
            " [0.26401835 0.84613586 0.16533733 0.15023802]]\n"
          ]
        }
      ]
    },
    {
      "cell_type": "markdown",
      "source": [
        "## How to choose elements from the list with different probability using NumPy?"
      ],
      "metadata": {
        "id": "fSmHaEH6ZmP1"
      }
    },
    {
      "cell_type": "code",
      "source": [
        "elements = [1, 2, 3, 4, 5]\n",
        "probabilities = [0.1, 0.2, 0.3, 0.2, 0.2]\n",
        "chosen_elements = np.random.choice(elements, size=5, p=probabilities, replace=False) #with no replace, cannot choose the same number\n",
        "print(chosen_elements)"
      ],
      "metadata": {
        "colab": {
          "base_uri": "https://localhost:8080/"
        },
        "id": "pU_c-3t9c5U1",
        "outputId": "5575e14b-052a-4419-cc81-cc723da5781a"
      },
      "execution_count": null,
      "outputs": [
        {
          "output_type": "stream",
          "name": "stdout",
          "text": [
            "[3 2 1 4 5]\n"
          ]
        }
      ]
    },
    {
      "cell_type": "markdown",
      "source": [
        "## How to get weighted random choice in Python?"
      ],
      "metadata": {
        "id": "KTM921FXZnNH"
      }
    },
    {
      "cell_type": "code",
      "source": [
        "elements = ['A', 'B', 'C', 'D']\n",
        "weights = [0.1, 0.3, 0.5, 0.1]\n",
        "choice = np.random.choice(elements, p=weights)\n",
        "print(choice)"
      ],
      "metadata": {
        "colab": {
          "base_uri": "https://localhost:8080/"
        },
        "id": "5mZq5DMrdGTM",
        "outputId": "e13ff703-2577-47db-e286-8274db2d8f29"
      },
      "execution_count": null,
      "outputs": [
        {
          "output_type": "stream",
          "name": "stdout",
          "text": [
            "A\n"
          ]
        }
      ]
    },
    {
      "cell_type": "markdown",
      "source": [
        "## Generate Random Numbers From The Uniform Distribution using NumPy"
      ],
      "metadata": {
        "id": "95cpSrp0ZoGX"
      }
    },
    {
      "cell_type": "code",
      "source": [
        "amount_of_numbers = 5\n",
        "random_numbers = np.random.rand(amount_of_numbers)\n",
        "print(random_numbers)"
      ],
      "metadata": {
        "colab": {
          "base_uri": "https://localhost:8080/"
        },
        "id": "mfpwbf8Tdmmo",
        "outputId": "af583c4a-f9ce-427d-8eb0-acfad95eb5cf"
      },
      "execution_count": null,
      "outputs": [
        {
          "output_type": "stream",
          "name": "stdout",
          "text": [
            "[0.14898617 0.40230184 0.16038649 0.30904455 0.12984061]\n"
          ]
        }
      ]
    },
    {
      "cell_type": "markdown",
      "source": [
        "## Get Random Elements form geometric distribution"
      ],
      "metadata": {
        "id": "M5TOAjUwZpKP"
      }
    },
    {
      "cell_type": "code",
      "source": [
        "random_num = np.random.geometric(p=0.5)\n",
        "print(random_num)\n",
        "\n",
        "random_array = np.random.geometric(p=0.5, size=5)\n",
        "print(random_array)"
      ],
      "metadata": {
        "colab": {
          "base_uri": "https://localhost:8080/"
        },
        "id": "Zpb8g4led67W",
        "outputId": "27d25488-9b80-4bae-8a9e-da8162d3b409"
      },
      "execution_count": null,
      "outputs": [
        {
          "output_type": "stream",
          "name": "stdout",
          "text": [
            "4\n",
            "[4 3 3 1 2]\n"
          ]
        }
      ]
    },
    {
      "cell_type": "markdown",
      "source": [
        "## Get Random elements from Laplace distribution"
      ],
      "metadata": {
        "id": "aNIO9YOdZqD7"
      }
    },
    {
      "cell_type": "code",
      "source": [
        "random_num = np.random.laplace(loc=0.0, scale=1.0)\n",
        "print(random_num)\n",
        "\n",
        "random_array = np.random.laplace(loc=0.0, scale=1.0, size=5)\n",
        "print(random_array)"
      ],
      "metadata": {
        "colab": {
          "base_uri": "https://localhost:8080/"
        },
        "id": "gjYVmqrieFg6",
        "outputId": "2298d0f9-f76a-49e5-a496-78a6f393c363"
      },
      "execution_count": null,
      "outputs": [
        {
          "output_type": "stream",
          "name": "stdout",
          "text": [
            "-1.9448610376094357\n",
            "[ 0.16934415 -0.18508078 -0.11866484 -0.40649704  1.1480872 ]\n"
          ]
        }
      ]
    },
    {
      "cell_type": "markdown",
      "source": [
        "## Return a Matrix of random values from a uniform distribution"
      ],
      "metadata": {
        "id": "C_5MbCqLZrBo"
      }
    },
    {
      "cell_type": "code",
      "source": [
        "n = 3\n",
        "m = 4\n",
        "random_matrix = np.random.rand(n, m)\n",
        "\n",
        "print(random_matrix)"
      ],
      "metadata": {
        "colab": {
          "base_uri": "https://localhost:8080/"
        },
        "id": "OAKkv8dFeNV8",
        "outputId": "f95626d9-c5b0-4cd7-da12-c228fc874cb6"
      },
      "execution_count": null,
      "outputs": [
        {
          "output_type": "stream",
          "name": "stdout",
          "text": [
            "[[0.18522082 0.73661936 0.14977793 0.44172704]\n",
            " [0.15413473 0.26585314 0.01933396 0.65833231]\n",
            " [0.34872417 0.73829197 0.10327621 0.94359514]]\n"
          ]
        }
      ]
    },
    {
      "cell_type": "markdown",
      "source": [
        "## Return a Matrix of random values from a Gaussian distribution"
      ],
      "metadata": {
        "id": "5Qr30O6VZr76"
      }
    },
    {
      "cell_type": "code",
      "source": [
        "n = 3\n",
        "m = 4\n",
        "random_matrix = np.random.normal(loc=0.0, scale=1.0, size=(n, m))\n",
        "\n",
        "print(random_matrix)"
      ],
      "metadata": {
        "colab": {
          "base_uri": "https://localhost:8080/"
        },
        "id": "xPDfMIqJeX6i",
        "outputId": "e2a31b13-fead-4d62-d657-025d2c5908d2"
      },
      "execution_count": null,
      "outputs": [
        {
          "output_type": "stream",
          "name": "stdout",
          "text": [
            "[[ 0.03117736  0.13648496  1.51693605  0.90782921]\n",
            " [ 0.82662892 -0.35882483 -0.52657694 -1.40419479]\n",
            " [-0.80752717 -0.31034366 -1.07782754  0.08931164]]\n"
          ]
        }
      ]
    },
    {
      "cell_type": "markdown",
      "source": [
        "#Questions on NumPy Sorting and Searching"
      ],
      "metadata": {
        "id": "b1RJg_M2Zsee"
      }
    },
    {
      "cell_type": "markdown",
      "source": [
        "## How to get the indices of the sorted array using NumPy in Python?"
      ],
      "metadata": {
        "id": "D5995kp4ZxAz"
      }
    },
    {
      "cell_type": "code",
      "source": [
        "arr = np.array([5, 2, 9, 1, 7])\n",
        "\n",
        "sorted_indexes = np.argsort(arr)\n",
        "print(sorted_indexes)"
      ],
      "metadata": {
        "colab": {
          "base_uri": "https://localhost:8080/"
        },
        "id": "UHj2odNLfC9g",
        "outputId": "358dd4a0-504a-4487-b2d8-e12c7569f96b"
      },
      "execution_count": null,
      "outputs": [
        {
          "output_type": "stream",
          "name": "stdout",
          "text": [
            "[3 1 0 4 2]\n"
          ]
        }
      ]
    },
    {
      "cell_type": "markdown",
      "source": [
        "## Finding the k smallest values of a NumPy array"
      ],
      "metadata": {
        "id": "9hPIWdA7Zy1s"
      }
    },
    {
      "cell_type": "code",
      "source": [
        "arr = np.array([5, 2, 9, 1, 7, 3, 8, 4, 6])\n",
        "k = 3\n",
        "\n",
        "sorted_indexes = np.argsort(arr)\n",
        "sorted_arr = arr[sorted_indexes]\n",
        "print(sorted_arr[:k])"
      ],
      "metadata": {
        "colab": {
          "base_uri": "https://localhost:8080/"
        },
        "id": "j9GJ18ZMfPkR",
        "outputId": "63a67344-8e1d-44ec-9502-a78448d1469c"
      },
      "execution_count": null,
      "outputs": [
        {
          "output_type": "stream",
          "name": "stdout",
          "text": [
            "[1 2 3]\n"
          ]
        }
      ]
    },
    {
      "cell_type": "markdown",
      "source": [
        "## How to get the n-largest values of an array using NumPy?"
      ],
      "metadata": {
        "id": "4IhIudeYZzgu"
      }
    },
    {
      "cell_type": "code",
      "source": [
        "arr = np.array([5, 2, 9, 1, 7, 3, 8, 4, 6])\n",
        "n = 3\n",
        "\n",
        "sorted_indexes = np.argsort(arr)\n",
        "sorted_arr = arr[sorted_indexes]\n",
        "sorted_arr = sorted_arr[::-1]\n",
        "print(sorted_arr[:n])"
      ],
      "metadata": {
        "colab": {
          "base_uri": "https://localhost:8080/"
        },
        "id": "ugvKqgouf_iF",
        "outputId": "4565d5a7-d903-4d31-d066-4d9468542649"
      },
      "execution_count": null,
      "outputs": [
        {
          "output_type": "stream",
          "name": "stdout",
          "text": [
            "[9 8 7]\n"
          ]
        }
      ]
    },
    {
      "cell_type": "markdown",
      "source": [
        "## Sort the values in a matrix"
      ],
      "metadata": {
        "id": "L0tkXk2fZ0MX"
      }
    },
    {
      "cell_type": "code",
      "source": [
        "matrix = np.array([[5, 2, 9],\n",
        "                   [1, 7, 3],\n",
        "                   [8, 4, 6]])\n",
        "\n",
        "sorted_matrix = np.sort(matrix, axis=None)\n",
        "print(sorted_matrix)"
      ],
      "metadata": {
        "colab": {
          "base_uri": "https://localhost:8080/"
        },
        "id": "oEASNBFJg0Vf",
        "outputId": "732cd4c0-7d6b-4a5a-9221-44739fa9ada6"
      },
      "execution_count": null,
      "outputs": [
        {
          "output_type": "stream",
          "name": "stdout",
          "text": [
            "[1 2 3 4 5 6 7 8 9]\n"
          ]
        }
      ]
    },
    {
      "cell_type": "markdown",
      "source": [
        "## Filter out integers from float numpy array"
      ],
      "metadata": {
        "id": "LA6x1A26Z04z"
      }
    },
    {
      "cell_type": "code",
      "source": [
        "float_array = np.array([1.2, 2.5, 3.0, 4.7, 5.0])\n",
        "integers_indexes = np.where(float_array % 1 != 0)\n",
        "filtered_array = float_array[integers_indexes]\n",
        "\n",
        "print(filtered_array)"
      ],
      "metadata": {
        "colab": {
          "base_uri": "https://localhost:8080/"
        },
        "id": "FX3yUgW-hDEi",
        "outputId": "464789fe-e6f4-4ae8-ff77-1a1a576cca6e"
      },
      "execution_count": null,
      "outputs": [
        {
          "output_type": "stream",
          "name": "stdout",
          "text": [
            "[1.2 2.5 4.7]\n"
          ]
        }
      ]
    },
    {
      "cell_type": "markdown",
      "source": [
        "## Find the indices into a sorted array"
      ],
      "metadata": {
        "id": "9J7GqHwEZ1vT"
      }
    },
    {
      "cell_type": "code",
      "source": [
        "arr = np.array([5, 2, 9, 1, 7])\n",
        "\n",
        "sorted_indexes = np.argsort(arr)\n",
        "print(sorted_indexes)"
      ],
      "metadata": {
        "colab": {
          "base_uri": "https://localhost:8080/"
        },
        "id": "6UCwgIOXhwWq",
        "outputId": "3b889af1-aa0b-4081-ef4f-f86cb54fc6e9"
      },
      "execution_count": null,
      "outputs": [
        {
          "output_type": "stream",
          "name": "stdout",
          "text": [
            "[3 1 0 4 2]\n"
          ]
        }
      ]
    },
    {
      "cell_type": "markdown",
      "source": [
        "#Questions on NumPy Mathematics"
      ],
      "metadata": {
        "id": "LMOIET_QZ1y1"
      }
    },
    {
      "cell_type": "markdown",
      "source": [
        "## How to get element-wise true division of an array using Numpy?"
      ],
      "metadata": {
        "id": "8MnmLNmBZ55x"
      }
    },
    {
      "cell_type": "code",
      "source": [
        "arr1 = np.array([1, 2, 3])\n",
        "arr2 = np.array([4, 5, 6])\n",
        "\n",
        "result1 = np.true_divide(arr1, arr2)\n",
        "\n",
        "# or\n",
        "\n",
        "result2 = arr1 / arr2\n",
        "\n",
        "print(result1)\n",
        "print(result2)"
      ],
      "metadata": {
        "colab": {
          "base_uri": "https://localhost:8080/"
        },
        "id": "Nu8aMY7riXYV",
        "outputId": "00657106-04c7-4db6-db55-df5d09d96f74"
      },
      "execution_count": null,
      "outputs": [
        {
          "output_type": "stream",
          "name": "stdout",
          "text": [
            "[0.25 0.4  0.5 ]\n",
            "[0.25 0.4  0.5 ]\n"
          ]
        }
      ]
    },
    {
      "cell_type": "markdown",
      "source": [
        "## How to calculate the element-wise absolute value of NumPy array?"
      ],
      "metadata": {
        "id": "hKU1UDBHZ9wI"
      }
    },
    {
      "cell_type": "code",
      "source": [
        "arr = np.array([-1, 2, -3, 4, -5])\n",
        "\n",
        "abs_values = np.abs(arr)\n",
        "print(abs_values)"
      ],
      "metadata": {
        "colab": {
          "base_uri": "https://localhost:8080/"
        },
        "id": "1gFG9PGLifu4",
        "outputId": "ea529635-de54-4d79-ae0c-0470c2ca4bfa"
      },
      "execution_count": null,
      "outputs": [
        {
          "output_type": "stream",
          "name": "stdout",
          "text": [
            "[1 2 3 4 5]\n"
          ]
        }
      ]
    },
    {
      "cell_type": "markdown",
      "source": [
        "## Compute the negative of the NumPy array\n"
      ],
      "metadata": {
        "id": "0roTCZooZ-wS"
      }
    },
    {
      "cell_type": "code",
      "source": [
        "arr = np.array([-1, 2, -3, 4, -5])\n",
        "\n",
        "negative_values = np.negative(arr)\n",
        "print(negative_values)"
      ],
      "metadata": {
        "colab": {
          "base_uri": "https://localhost:8080/"
        },
        "id": "y0swvzGXisIA",
        "outputId": "2470f319-5ae6-4480-f55e-92e9bb49702a"
      },
      "execution_count": null,
      "outputs": [
        {
          "output_type": "stream",
          "name": "stdout",
          "text": [
            "[ 1 -2  3 -4  5]\n"
          ]
        }
      ]
    },
    {
      "cell_type": "markdown",
      "source": [
        "## Multiply 2d numpy array corresponding to 1d array"
      ],
      "metadata": {
        "id": "o_krX3IeaCyv"
      }
    },
    {
      "cell_type": "code",
      "source": [
        "arr1 = np.array([2, 3, 4])\n",
        "\n",
        "arr2 = np.array([[1, 2, 3],\n",
        "                  [4, 5, 6]])\n",
        "\n",
        "result = arr2 * arr1\n",
        "\n",
        "print(result)"
      ],
      "metadata": {
        "colab": {
          "base_uri": "https://localhost:8080/"
        },
        "id": "Zm-YlaEpi_HN",
        "outputId": "37765631-12e0-423a-d2f6-62adfe9b8e61"
      },
      "execution_count": null,
      "outputs": [
        {
          "output_type": "stream",
          "name": "stdout",
          "text": [
            "[[ 2  6 12]\n",
            " [ 8 15 24]]\n"
          ]
        }
      ]
    },
    {
      "cell_type": "markdown",
      "source": [
        "## Computes the inner product of two arrays\n"
      ],
      "metadata": {
        "id": "ioNJ07kLaEWm"
      }
    },
    {
      "cell_type": "code",
      "source": [
        "arr1 = np.array([1, 2, 3])\n",
        "arr2 = np.array([4, 5, 6])\n",
        "\n",
        "result = np.inner(arr1, arr2)\n",
        "print(result)"
      ],
      "metadata": {
        "colab": {
          "base_uri": "https://localhost:8080/"
        },
        "id": "xnW2Oa5UjQiQ",
        "outputId": "ba074910-25ef-4980-cf87-79004bd7a81e"
      },
      "execution_count": null,
      "outputs": [
        {
          "output_type": "stream",
          "name": "stdout",
          "text": [
            "32\n"
          ]
        }
      ]
    },
    {
      "cell_type": "markdown",
      "source": [
        "## Compute the nth percentile of the NumPy array\n"
      ],
      "metadata": {
        "id": "W4-vLwjnaFBg"
      }
    },
    {
      "cell_type": "code",
      "source": [
        "arr = np.array([1, 2, 3, 4, 5])\n",
        "\n",
        "n = 50\n",
        "percentile_n = np.percentile(arr, n)\n",
        "print(percentile_n)"
      ],
      "metadata": {
        "colab": {
          "base_uri": "https://localhost:8080/"
        },
        "id": "mBAkSenYjYJm",
        "outputId": "8062ec3d-b34c-4db2-906c-5fd2f1bd8455"
      },
      "execution_count": null,
      "outputs": [
        {
          "output_type": "stream",
          "name": "stdout",
          "text": [
            "3.0\n"
          ]
        }
      ]
    },
    {
      "cell_type": "markdown",
      "source": [
        "## Calculate the n-th order discrete difference along the given axis\n"
      ],
      "metadata": {
        "id": "MPrXOBTdaFqS"
      }
    },
    {
      "cell_type": "code",
      "source": [
        "arr = np.array([[1, 4, 9, 16, 25],\n",
        "               [2, 3, 5, 6, 5]])\n",
        "n = 1\n",
        "order_diff = np.diff(arr, axis=1, n=n)\n",
        "print(order_diff)"
      ],
      "metadata": {
        "colab": {
          "base_uri": "https://localhost:8080/"
        },
        "id": "XDH3YYYgjuMW",
        "outputId": "7b0d20a5-1a58-4513-f584-6c73868ebd2a"
      },
      "execution_count": null,
      "outputs": [
        {
          "output_type": "stream",
          "name": "stdout",
          "text": [
            "[[ 3  5  7  9]\n",
            " [ 1  2  1 -1]]\n"
          ]
        }
      ]
    },
    {
      "cell_type": "markdown",
      "source": [
        "## Calculate the sum of all columns in a 2D NumPy array\n"
      ],
      "metadata": {
        "id": "tOV_KSyDaFuE"
      }
    },
    {
      "cell_type": "code",
      "source": [
        "arr = np.array([[1, 2, 3],\n",
        "                [4, 5, 6],\n",
        "                [7, 8, 9]])\n",
        "\n",
        "sum_columns = np.sum(arr, axis=0)\n",
        "print(sum_columns)"
      ],
      "metadata": {
        "colab": {
          "base_uri": "https://localhost:8080/"
        },
        "id": "hNXk0hhRkJwU",
        "outputId": "8e927c2e-6350-4804-dd46-e5f2dc866eab"
      },
      "execution_count": null,
      "outputs": [
        {
          "output_type": "stream",
          "name": "stdout",
          "text": [
            "[12 15 18]\n"
          ]
        }
      ]
    },
    {
      "cell_type": "markdown",
      "source": [
        "## Calculate average values of two given NumPy arrays\n"
      ],
      "metadata": {
        "id": "6RRCqxJPaJCF"
      }
    },
    {
      "cell_type": "code",
      "source": [
        "arr1 = np.array([1, 2, 3, 4, 5])\n",
        "arr2 = np.array([6, 7, 8, 9, 10])\n",
        "\n",
        "average_values = (arr1 + arr2) / 2\n",
        "print(average_values)\n",
        "\n",
        "# or\n",
        "print(np.mean([arr1, arr2], axis=0))"
      ],
      "metadata": {
        "colab": {
          "base_uri": "https://localhost:8080/"
        },
        "id": "LvpVAQRYkX9G",
        "outputId": "56b9d3b9-08e6-4700-ed8f-e4066f9aef0d"
      },
      "execution_count": null,
      "outputs": [
        {
          "output_type": "stream",
          "name": "stdout",
          "text": [
            "[3.5 4.5 5.5 6.5 7.5]\n",
            "[3.5 4.5 5.5 6.5 7.5]\n"
          ]
        }
      ]
    },
    {
      "cell_type": "markdown",
      "source": [
        "## How to compute numerical negative value for all elements in a given NumPy array?\n"
      ],
      "metadata": {
        "id": "WCo880ibaKgN"
      }
    },
    {
      "cell_type": "code",
      "source": [
        "arr = np.array([1, -2, 3, -4, 5])\n",
        "negative_values = np.negative(arr)\n",
        "\n",
        "print(negative_values)\n",
        "\n",
        "# or\n",
        "\n",
        "arr = np.array([1, -2, 3, -4, 5])\n",
        "negative_values = -arr\n",
        "\n",
        "print(negative_values)"
      ],
      "metadata": {
        "colab": {
          "base_uri": "https://localhost:8080/"
        },
        "id": "89aCwGw1ktu6",
        "outputId": "56c732e8-9529-4aca-9a56-439f8174edc9"
      },
      "execution_count": null,
      "outputs": [
        {
          "output_type": "stream",
          "name": "stdout",
          "text": [
            "[-1  2 -3  4 -5]\n",
            "[-1  2 -3  4 -5]\n"
          ]
        }
      ]
    },
    {
      "cell_type": "markdown",
      "source": [
        "## How to get the floor, ceiling and truncated values of the elements of a numpy array?\n"
      ],
      "metadata": {
        "id": "rnE0Y6XCaLOr"
      }
    },
    {
      "cell_type": "code",
      "source": [
        "arr = np.array([1.2, 2.7, 3.9, -4.5, 5.1])\n",
        "\n",
        "floor_values = np.floor(arr)\n",
        "ceiling_values = np.ceil(arr)\n",
        "truncated_values = np.trunc(arr)\n",
        "\n",
        "print(\"Original array:\", arr)\n",
        "print(\"Floor values:\", floor_values)\n",
        "print(\"Ceiling values:\", ceiling_values)\n",
        "print(\"Truncated values:\", truncated_values)"
      ],
      "metadata": {
        "colab": {
          "base_uri": "https://localhost:8080/"
        },
        "id": "To134CYSk8RR",
        "outputId": "906bb408-4e23-4bf3-89f4-9c2fe4b7278f"
      },
      "execution_count": null,
      "outputs": [
        {
          "output_type": "stream",
          "name": "stdout",
          "text": [
            "Original array: [ 1.2  2.7  3.9 -4.5  5.1]\n",
            "Floor values: [ 1.  2.  3. -5.  5.]\n",
            "Ceiling values: [ 2.  3.  4. -4.  6.]\n",
            "Truncated values: [ 1.  2.  3. -4.  5.]\n"
          ]
        }
      ]
    },
    {
      "cell_type": "markdown",
      "source": [
        "## How to round elements of the NumPy array to the nearest integer?\n"
      ],
      "metadata": {
        "id": "EivfqzlRaMA2"
      }
    },
    {
      "cell_type": "code",
      "source": [
        "arr = np.array([1.2, 2.7, 3.5, -4.8, 5.1])\n",
        "\n",
        "rounded_values = np.round(arr)\n",
        "print(rounded_values)\n",
        "\n",
        "# or\n",
        "\n",
        "arr = np.array([1.2, 2.7, 3.5, -4.8, 5.1])\n",
        "rounded_values = np.round(arr).astype(int)\n",
        "print(rounded_values)"
      ],
      "metadata": {
        "colab": {
          "base_uri": "https://localhost:8080/"
        },
        "id": "rOiOsd7WlRmB",
        "outputId": "8a246967-819f-4a36-81f6-d860d0eabda5"
      },
      "execution_count": null,
      "outputs": [
        {
          "output_type": "stream",
          "name": "stdout",
          "text": [
            "[ 1.  3.  4. -5.  5.]\n",
            "[ 1  3  4 -5  5]\n"
          ]
        }
      ]
    },
    {
      "cell_type": "markdown",
      "source": [
        "## Find the round off the values of the given matrix\n"
      ],
      "metadata": {
        "id": "5FWQHmWVaMzV"
      }
    },
    {
      "cell_type": "code",
      "source": [
        "matrix = np.array([[1.234, 2.567, 3.891],\n",
        "                   [4.567, 5.432, 6.789]])\n",
        "\n",
        "result = np.round(matrix, decimals=1)\n",
        "print(result)"
      ],
      "metadata": {
        "colab": {
          "base_uri": "https://localhost:8080/"
        },
        "id": "YGmoRseIlckD",
        "outputId": "e1f66a04-20b0-439e-f38d-bd1d51afddea"
      },
      "execution_count": null,
      "outputs": [
        {
          "output_type": "stream",
          "name": "stdout",
          "text": [
            "[[1.2 2.6 3.9]\n",
            " [4.6 5.4 6.8]]\n"
          ]
        }
      ]
    },
    {
      "cell_type": "markdown",
      "source": [
        "## Determine the positive square-root of an array\n"
      ],
      "metadata": {
        "id": "ih4iYXxcaNtu"
      }
    },
    {
      "cell_type": "code",
      "source": [
        "arr = np.array([4, 16, 25])\n",
        "\n",
        "sqrt_values = np.sqrt(arr)\n",
        "print(sqrt_values)"
      ],
      "metadata": {
        "colab": {
          "base_uri": "https://localhost:8080/"
        },
        "id": "IXUsWZhmlrlv",
        "outputId": "a2783eaa-c32f-46f9-8942-ee5edf2b9c87"
      },
      "execution_count": null,
      "outputs": [
        {
          "output_type": "stream",
          "name": "stdout",
          "text": [
            "[2. 4. 5.]\n"
          ]
        }
      ]
    },
    {
      "cell_type": "markdown",
      "source": [
        "## Evaluate Einstein’s summation convention of two multidimensional NumPy arrays"
      ],
      "metadata": {
        "id": "EqHdxRlfaOeJ"
      }
    },
    {
      "cell_type": "code",
      "source": [
        "arr1 = np.array([[1, 2], [3, 4]])\n",
        "arr2 = np.array([[5, 6], [7, 8]])\n",
        "\n",
        "result = np.einsum('ij,ij->', arr1, arr2)\n",
        "print(result)"
      ],
      "metadata": {
        "colab": {
          "base_uri": "https://localhost:8080/"
        },
        "id": "vGnhH-0Flz35",
        "outputId": "23e980c1-c856-48c5-c411-c28dc9044ba2"
      },
      "execution_count": null,
      "outputs": [
        {
          "output_type": "stream",
          "name": "stdout",
          "text": [
            "70\n"
          ]
        }
      ]
    },
    {
      "cell_type": "markdown",
      "source": [
        "#Questions on NumPy Statistics"
      ],
      "metadata": {
        "id": "EyXaaD1raPCZ"
      }
    },
    {
      "cell_type": "markdown",
      "source": [
        "## Compute the median of the flattened NumPy array\n"
      ],
      "metadata": {
        "id": "D3L4Gd3CaQyb"
      }
    },
    {
      "cell_type": "code",
      "source": [
        "arr = np.array([[1, 2, 3],\n",
        "                [4, 5, 6],\n",
        "                [7, 8, 9]])\n",
        "\n",
        "flattened_arr = arr.flatten()\n",
        "result = np.median(flattened_arr)\n",
        "print(result)"
      ],
      "metadata": {
        "colab": {
          "base_uri": "https://localhost:8080/"
        },
        "id": "rH7m2gKYmDXt",
        "outputId": "17a9c315-c934-44ff-ab07-749330291190"
      },
      "execution_count": null,
      "outputs": [
        {
          "output_type": "stream",
          "name": "stdout",
          "text": [
            "5.0\n"
          ]
        }
      ]
    },
    {
      "cell_type": "markdown",
      "source": [
        "## Find Mean of a List of Numpy Array\n"
      ],
      "metadata": {
        "id": "vyekEvOMaTXN"
      }
    },
    {
      "cell_type": "code",
      "source": [
        "array_list = [np.array([1, 2, 3]),\n",
        "              np.array([4, 5, 6]),\n",
        "              np.array([7, 8, 9])]\n",
        "\n",
        "mean_array = np.array([])\n",
        "for arr in array_list:\n",
        "  mean_array = np.hstack((mean_array, np.mean(arr)))\n",
        "print(mean_array)\n",
        "\n",
        "# OR mean_array = np.mean([arr for arr in array_list], axis=0)"
      ],
      "metadata": {
        "colab": {
          "base_uri": "https://localhost:8080/"
        },
        "id": "M-gghbPimKE9",
        "outputId": "71991f64-a237-4288-a0d2-ba5d13b66c29"
      },
      "execution_count": null,
      "outputs": [
        {
          "output_type": "stream",
          "name": "stdout",
          "text": [
            "[2. 5. 8.]\n"
          ]
        }
      ]
    },
    {
      "cell_type": "markdown",
      "source": [
        "## Calculate the mean of array ignoring the NaN value\n"
      ],
      "metadata": {
        "id": "CHqowHNUaUA_"
      }
    },
    {
      "cell_type": "code",
      "source": [
        "arr = np.array([1, np.nan, 3, 4, 5])\n",
        "mean = np.nanmean(arr)\n",
        "print(mean)"
      ],
      "metadata": {
        "colab": {
          "base_uri": "https://localhost:8080/"
        },
        "id": "2Q50_VrtnTz9",
        "outputId": "dace4292-60cd-450e-f81e-30beb0febd3c"
      },
      "execution_count": null,
      "outputs": [
        {
          "output_type": "stream",
          "name": "stdout",
          "text": [
            "3.25\n"
          ]
        }
      ]
    },
    {
      "cell_type": "markdown",
      "source": [
        "## Get the mean value from given matrix\n"
      ],
      "metadata": {
        "id": "8wUCHdrraVXG"
      }
    },
    {
      "cell_type": "code",
      "source": [
        "matrix = np.array([[1, 2, 3],\n",
        "                   [4, 5, 6],\n",
        "                   [7, 8, 9]])\n",
        "\n",
        "mean_value = np.mean(matrix)\n",
        "print(mean_value)"
      ],
      "metadata": {
        "colab": {
          "base_uri": "https://localhost:8080/"
        },
        "id": "SOzj7qvJnf-K",
        "outputId": "1a039afa-7ee7-4a8e-ecca-43a5142460a3"
      },
      "execution_count": null,
      "outputs": [
        {
          "output_type": "stream",
          "name": "stdout",
          "text": [
            "5.0\n"
          ]
        }
      ]
    },
    {
      "cell_type": "markdown",
      "source": [
        "## Compute the variance of the NumPy array\n"
      ],
      "metadata": {
        "id": "Rl4iD0z8aV-y"
      }
    },
    {
      "cell_type": "code",
      "source": [
        "arr = np.array([1, 2, 3, 4, 5])\n",
        "variance = np.var(arr)\n",
        "print(variance)"
      ],
      "metadata": {
        "colab": {
          "base_uri": "https://localhost:8080/"
        },
        "id": "rfvfgSygnl7j",
        "outputId": "07d6e505-bd63-4b73-eab1-ca53864f1955"
      },
      "execution_count": null,
      "outputs": [
        {
          "output_type": "stream",
          "name": "stdout",
          "text": [
            "2.0\n"
          ]
        }
      ]
    },
    {
      "cell_type": "markdown",
      "source": [
        "## Compute the standard deviation of the NumPy array\n"
      ],
      "metadata": {
        "id": "uQq90alCaWmS"
      }
    },
    {
      "cell_type": "code",
      "source": [
        "arr = np.array([1, 2, 3, 4, 5])\n",
        "std_dev = np.std(arr)\n",
        "print(std_dev)"
      ],
      "metadata": {
        "colab": {
          "base_uri": "https://localhost:8080/"
        },
        "id": "_uO5gnHunsaq",
        "outputId": "040acc66-5fee-4597-bebf-ad8fbf0e165a"
      },
      "execution_count": null,
      "outputs": [
        {
          "output_type": "stream",
          "name": "stdout",
          "text": [
            "1.4142135623730951\n"
          ]
        }
      ]
    },
    {
      "cell_type": "markdown",
      "source": [
        "## Compute pearson product-moment correlation coefficients of two given NumPy arrays\n"
      ],
      "metadata": {
        "id": "YZwPocpaaXNN"
      }
    },
    {
      "cell_type": "code",
      "source": [
        "arr1 = np.array([1, 2, 3, 4, 5])\n",
        "arr2 = np.array([2, 4, 6, 8, 10])\n",
        "\n",
        "correlation = np.corrcoef(arr1, arr2)[0, 1]\n",
        "print(correlation)"
      ],
      "metadata": {
        "colab": {
          "base_uri": "https://localhost:8080/"
        },
        "id": "4c7mX6d0n0RR",
        "outputId": "0919a97b-5b6a-404d-bc09-4ec5ab994907"
      },
      "execution_count": null,
      "outputs": [
        {
          "output_type": "stream",
          "name": "stdout",
          "text": [
            "0.9999999999999999\n"
          ]
        }
      ]
    },
    {
      "cell_type": "markdown",
      "source": [
        "## Calculate the mean across dimension in a 2D NumPy array\n"
      ],
      "metadata": {
        "id": "ymQ2dXeAaX7q"
      }
    },
    {
      "cell_type": "code",
      "source": [
        "arr = np.array([[1, 2, 3],\n",
        "                [4, 5, 6],\n",
        "                [7, 8, 9]])\n",
        "\n",
        "mean_rows = np.mean(arr, axis=0)\n",
        "mean_columns = np.mean(arr, axis=1)\n",
        "\n",
        "print(\"Mean across rows:\", mean_rows)\n",
        "print(\"Mean across columns:\", mean_columns)"
      ],
      "metadata": {
        "colab": {
          "base_uri": "https://localhost:8080/"
        },
        "id": "GIt7f_71oBtS",
        "outputId": "df71c1d2-54ef-44a3-b9dd-6c2abe01556b"
      },
      "execution_count": null,
      "outputs": [
        {
          "output_type": "stream",
          "name": "stdout",
          "text": [
            "Mean across rows: [4. 5. 6.]\n",
            "Mean across columns: [2. 5. 8.]\n"
          ]
        }
      ]
    },
    {
      "cell_type": "markdown",
      "source": [
        "## Calculate the average, variance and standard deviation in Python using NumPy\n"
      ],
      "metadata": {
        "id": "dTlI7GJ-aYgy"
      }
    },
    {
      "cell_type": "code",
      "source": [
        "arr = np.array([1, 2, 3, 4, 5])\n",
        "\n",
        "average = np.mean(arr)\n",
        "variance = np.var(arr)\n",
        "std_dev = np.std(arr)\n",
        "\n",
        "print(\"Average:\", average)\n",
        "print(\"Variance:\", variance)\n",
        "print(\"Standard Deviation:\", std_dev)"
      ],
      "metadata": {
        "colab": {
          "base_uri": "https://localhost:8080/"
        },
        "id": "zM0BcicboFMd",
        "outputId": "7ec01b2f-c73d-4258-d521-7cf7ecf13cec"
      },
      "execution_count": null,
      "outputs": [
        {
          "output_type": "stream",
          "name": "stdout",
          "text": [
            "Average: 3.0\n",
            "Variance: 2.0\n",
            "Standard Deviation: 1.4142135623730951\n"
          ]
        }
      ]
    },
    {
      "cell_type": "markdown",
      "source": [
        "## Describe a NumPy Array in Python"
      ],
      "metadata": {
        "id": "QDNFWpu4aZKA"
      }
    },
    {
      "cell_type": "code",
      "source": [
        "arr = np.array([1, 2, 3, 4, 5])\n",
        "\n",
        "print(\"Count:\", arr.size)\n",
        "print(\"Mean:\", np.mean(arr))\n",
        "print(\"Variance:\", np.var(arr))\n",
        "print(\"Standard Deviation:\", np.std(arr))\n",
        "print(\"Minimum:\", np.min(arr))\n",
        "print(\"Maximum:\", np.max(arr))\n",
        "print(\"25th Percentile:\", np.percentile(arr, 25))\n",
        "print(\"50th Percentile (Median):\", np.percentile(arr, 50))\n",
        "print(\"75th Percentile:\", np.percentile(arr, 75))"
      ],
      "metadata": {
        "colab": {
          "base_uri": "https://localhost:8080/"
        },
        "id": "DcgA9q7woMzH",
        "outputId": "237f2633-75ee-44b7-9c5d-1c7fc48c0d23"
      },
      "execution_count": null,
      "outputs": [
        {
          "output_type": "stream",
          "name": "stdout",
          "text": [
            "Count: 5\n",
            "Mean: 3.0\n",
            "Variance: 2.0\n",
            "Standard Deviation: 1.4142135623730951\n",
            "Minimum: 1\n",
            "Maximum: 5\n",
            "25th Percentile: 2.0\n",
            "50th Percentile (Median): 3.0\n",
            "75th Percentile: 4.0\n"
          ]
        }
      ]
    },
    {
      "cell_type": "markdown",
      "source": [
        "#Questions on Polynomial"
      ],
      "metadata": {
        "id": "kd_nJUkBaZlE"
      }
    },
    {
      "cell_type": "markdown",
      "source": [
        "## Define a polynomial function\n"
      ],
      "metadata": {
        "id": "Yn2Rf6Ababzt"
      }
    },
    {
      "cell_type": "code",
      "source": [
        "coefficients = [1, -3, 2]\n",
        "polynomial = np.poly1d(coefficients)\n",
        "\n",
        "print(polynomial)"
      ],
      "metadata": {
        "colab": {
          "base_uri": "https://localhost:8080/"
        },
        "id": "jOYRrWrfozVt",
        "outputId": "dd9708b6-d5a3-4c41-b8b0-86b038911e00"
      },
      "execution_count": null,
      "outputs": [
        {
          "output_type": "stream",
          "name": "stdout",
          "text": [
            "   2\n",
            "1 x - 3 x + 2\n"
          ]
        }
      ]
    },
    {
      "cell_type": "markdown",
      "source": [
        "## How to add one polynomial to another using NumPy in Python?\n"
      ],
      "metadata": {
        "id": "kAAQZ9VVafA2"
      }
    },
    {
      "cell_type": "code",
      "source": [
        "poly1_coeffs = [1, 2, 3]\n",
        "poly2_coeffs = [4, 5, 6]\n",
        "\n",
        "result_coeffs = np.polyadd(poly1_coeffs, poly2_coeffs)\n",
        "print(result_coeffs)"
      ],
      "metadata": {
        "colab": {
          "base_uri": "https://localhost:8080/"
        },
        "id": "AidMHT8SpbYK",
        "outputId": "cf3a435c-306f-49eb-bd07-f3ad6c9dbcfc"
      },
      "execution_count": null,
      "outputs": [
        {
          "output_type": "stream",
          "name": "stdout",
          "text": [
            "[5 7 9]\n"
          ]
        }
      ]
    },
    {
      "cell_type": "markdown",
      "source": [
        "## How to subtract one polynomial to another using NumPy in Python?\n"
      ],
      "metadata": {
        "id": "obq28-z-afpI"
      }
    },
    {
      "cell_type": "code",
      "source": [
        "poly1_coeffs = [1, 2, 3]\n",
        "poly2_coeffs = [4, 5, 6]\n",
        "\n",
        "result_coeffs = np.polysub(poly1_coeffs, poly2_coeffs)\n",
        "print(result_coeffs)"
      ],
      "metadata": {
        "colab": {
          "base_uri": "https://localhost:8080/"
        },
        "id": "lBQJwztXpm59",
        "outputId": "b569efa7-92b7-4f9e-d8bc-2757ce420c5e"
      },
      "execution_count": null,
      "outputs": [
        {
          "output_type": "stream",
          "name": "stdout",
          "text": [
            "[-3 -3 -3]\n"
          ]
        }
      ]
    },
    {
      "cell_type": "markdown",
      "source": [
        "## How to multiply a polynomial to another using NumPy in Python?\n"
      ],
      "metadata": {
        "id": "g2yqY4XlagRI"
      }
    },
    {
      "cell_type": "code",
      "source": [
        "poly1_coeffs = [1, 2, 3]\n",
        "poly2_coeffs = [4, 5, 6]\n",
        "\n",
        "result_coeffs = np.polymul(poly1_coeffs, poly2_coeffs)\n",
        "print(result_coeffs)"
      ],
      "metadata": {
        "colab": {
          "base_uri": "https://localhost:8080/"
        },
        "id": "nv7D2cV1pvhD",
        "outputId": "1c72a141-6179-4cbe-8fbb-675c1b7ed97a"
      },
      "execution_count": null,
      "outputs": [
        {
          "output_type": "stream",
          "name": "stdout",
          "text": [
            "[ 4 13 28 27 18]\n"
          ]
        }
      ]
    },
    {
      "cell_type": "markdown",
      "source": [
        "## How to divide a polynomial to another using NumPy in Python?\n"
      ],
      "metadata": {
        "id": "LQ8DA7y0ag8Z"
      }
    },
    {
      "cell_type": "code",
      "source": [
        "poly1_coeffs = [1, 2, 3]\n",
        "poly2_coeffs = [1, 1]\n",
        "\n",
        "quotient_coeffs, remainder_coeffs = np.polydiv(poly1_coeffs, poly2_coeffs)\n",
        "\n",
        "print(\"Quotient:\", quotient_coeffs)\n",
        "print(\"Remainder:\", remainder_coeffs)"
      ],
      "metadata": {
        "colab": {
          "base_uri": "https://localhost:8080/"
        },
        "id": "v2UN5zlLp8gZ",
        "outputId": "c8b5b185-7903-4fea-b232-c07bfa5b18e3"
      },
      "execution_count": null,
      "outputs": [
        {
          "output_type": "stream",
          "name": "stdout",
          "text": [
            "Quotient: [1. 1.]\n",
            "Remainder: [2.]\n"
          ]
        }
      ]
    },
    {
      "cell_type": "markdown",
      "source": [
        "## Find the roots of the polynomials using NumPy\n"
      ],
      "metadata": {
        "id": "sv1wtsgYahk8"
      }
    },
    {
      "cell_type": "code",
      "source": [
        "coefficients = [1, -3, 2]\n",
        "roots = np.roots(coefficients)\n",
        "print(roots)"
      ],
      "metadata": {
        "colab": {
          "base_uri": "https://localhost:8080/"
        },
        "id": "Gg2N6IE4qQUZ",
        "outputId": "444e8086-abf7-4824-bacc-aab5f59438c0"
      },
      "execution_count": null,
      "outputs": [
        {
          "output_type": "stream",
          "name": "stdout",
          "text": [
            "[2. 1.]\n"
          ]
        }
      ]
    },
    {
      "cell_type": "markdown",
      "source": [
        "## Evaluate a 2-D polynomial series on the Cartesian product\n"
      ],
      "metadata": {
        "id": "JWNk97weaiI-"
      }
    },
    {
      "cell_type": "code",
      "source": [
        "coefficients = [[1, 2, 3],\n",
        "                [4, 5, 6],\n",
        "                [7, 8, 9]]\n",
        "\n",
        "x = np.array([1, 2, 3])\n",
        "y = np.array([4, 5, 6])\n",
        "\n",
        "result = np.polynomial.polynomial.polyval2d(x, y, coefficients)\n",
        "print(result)"
      ],
      "metadata": {
        "colab": {
          "base_uri": "https://localhost:8080/"
        },
        "id": "1qz_dX-LqVTO",
        "outputId": "fc26284b-cac9-4e6f-b117-7194587ad266"
      },
      "execution_count": null,
      "outputs": [
        {
          "output_type": "stream",
          "name": "stdout",
          "text": [
            "[ 360. 1532. 4282.]\n"
          ]
        }
      ]
    },
    {
      "cell_type": "markdown",
      "source": [
        "## Evaluate a 3-D polynomial series on the Cartesian product"
      ],
      "metadata": {
        "id": "Oc9WCWicai0b"
      }
    },
    {
      "cell_type": "code",
      "source": [
        "coefficients = [[[1, 2],\n",
        "                 [3, 4]],\n",
        "\n",
        "                [[5, 6],\n",
        "                 [7, 8]]]\n",
        "\n",
        "x = np.array([1, 2])\n",
        "y = np.array([3, 4])\n",
        "z = np.array([5, 6])\n",
        "\n",
        "result = np.polynomial.polynomial.polyval3d(x, y, z, coefficients)\n",
        "print(result)"
      ],
      "metadata": {
        "colab": {
          "base_uri": "https://localhost:8080/"
        },
        "id": "s7Ehpu1bqnE3",
        "outputId": "33e55a00-8af6-436a-888b-e998b373fef8"
      },
      "execution_count": null,
      "outputs": [
        {
          "output_type": "stream",
          "name": "stdout",
          "text": [
            "[256. 643.]\n"
          ]
        }
      ]
    },
    {
      "cell_type": "markdown",
      "source": [
        "#Questions on NumPy Strings"
      ],
      "metadata": {
        "id": "fColP3ogajTI"
      }
    },
    {
      "cell_type": "markdown",
      "source": [
        "## Repeat all the elements of a NumPy array of strings\n"
      ],
      "metadata": {
        "id": "_PBHGC--alAQ"
      }
    },
    {
      "cell_type": "code",
      "source": [
        "arr = np.array(['Hello', 'World'])\n",
        "result = np.repeat(arr, 3)\n",
        "print(result)"
      ],
      "metadata": {
        "colab": {
          "base_uri": "https://localhost:8080/"
        },
        "id": "CrPXW7ydraOX",
        "outputId": "86f74129-3994-4376-cbd7-0da35c95ea8e"
      },
      "execution_count": null,
      "outputs": [
        {
          "output_type": "stream",
          "name": "stdout",
          "text": [
            "['Hello' 'Hello' 'Hello' 'World' 'World' 'World']\n"
          ]
        }
      ]
    },
    {
      "cell_type": "markdown",
      "source": [
        "## How to split the element of a given NumPy array with spaces?\n"
      ],
      "metadata": {
        "id": "8YNeYxWran6B"
      }
    },
    {
      "cell_type": "code",
      "source": [
        "arr = np.array(['Hello World', 'NumPy Tutorial', 'NumPy Array'])\n",
        "result = np.char.split(arr, sep=' ')\n",
        "print(result)"
      ],
      "metadata": {
        "colab": {
          "base_uri": "https://localhost:8080/"
        },
        "id": "Flwn44sNroUr",
        "outputId": "f4640e53-3b37-491d-ce32-3efd5d9ec91a"
      },
      "execution_count": null,
      "outputs": [
        {
          "output_type": "stream",
          "name": "stdout",
          "text": [
            "[list(['Hello', 'World']) list(['NumPy', 'Tutorial'])\n",
            " list(['NumPy', 'Array'])]\n"
          ]
        }
      ]
    },
    {
      "cell_type": "markdown",
      "source": [
        "## How to insert a space between characters of all the elements of a given NumPy array?\n"
      ],
      "metadata": {
        "id": "3ssZVP9uaomN"
      }
    },
    {
      "cell_type": "code",
      "source": [
        "arr = np.array(['Hello', 'World'])\n",
        "result = np.char.join(' ', arr)\n",
        "print(result)"
      ],
      "metadata": {
        "colab": {
          "base_uri": "https://localhost:8080/"
        },
        "id": "GuAhuTiOrx2o",
        "outputId": "8e7e7316-4bae-446e-de40-40eb84058438"
      },
      "execution_count": null,
      "outputs": [
        {
          "output_type": "stream",
          "name": "stdout",
          "text": [
            "['H e l l o' 'W o r l d']\n"
          ]
        }
      ]
    },
    {
      "cell_type": "markdown",
      "source": [
        "## Find the length of each string element in the Numpy array\n"
      ],
      "metadata": {
        "id": "EjNBuMMYapTl"
      }
    },
    {
      "cell_type": "code",
      "source": [
        "arr = np.array(['Hello', 'World', 'Python'])\n",
        "get_length = np.vectorize(len)\n",
        "lengths = get_length(arr)\n",
        "print(lengths)"
      ],
      "metadata": {
        "colab": {
          "base_uri": "https://localhost:8080/"
        },
        "id": "7MqPYdYvr5jz",
        "outputId": "c6502ab4-e546-4c71-e141-5f1428bab19d"
      },
      "execution_count": null,
      "outputs": [
        {
          "output_type": "stream",
          "name": "stdout",
          "text": [
            "[5 5 6]\n"
          ]
        }
      ]
    },
    {
      "cell_type": "markdown",
      "source": [
        "## Swap the case of an array of string\n"
      ],
      "metadata": {
        "id": "shgeI53eaqA4"
      }
    },
    {
      "cell_type": "code",
      "source": [
        "arr = np.array(['Hello', 'World', 'python'])\n",
        "result = np.char.swapcase(arr)\n",
        "print(result)"
      ],
      "metadata": {
        "colab": {
          "base_uri": "https://localhost:8080/"
        },
        "id": "qiCTuqvUsOTQ",
        "outputId": "5ffe7756-d6b7-4b79-ed96-64376994a2eb"
      },
      "execution_count": null,
      "outputs": [
        {
          "output_type": "stream",
          "name": "stdout",
          "text": [
            "['hELLO' 'wORLD' 'PYTHON']\n"
          ]
        }
      ]
    },
    {
      "cell_type": "markdown",
      "source": [
        "## Change the case to uppercase of elements of an array\n"
      ],
      "metadata": {
        "id": "jvh_ipAraqtP"
      }
    },
    {
      "cell_type": "code",
      "source": [
        "arr = np.array(['Hello', 'World', 'python'])\n",
        "result = np.char.upper(arr)\n",
        "print(result)"
      ],
      "metadata": {
        "colab": {
          "base_uri": "https://localhost:8080/"
        },
        "id": "rPR1acGdsfBV",
        "outputId": "4b6a4782-a55a-45a9-a937-b2c166ff62bd"
      },
      "execution_count": null,
      "outputs": [
        {
          "output_type": "stream",
          "name": "stdout",
          "text": [
            "['HELLO' 'WORLD' 'PYTHON']\n"
          ]
        }
      ]
    },
    {
      "cell_type": "markdown",
      "source": [
        "## Change the case to lowercase of elements of an array\n"
      ],
      "metadata": {
        "id": "CAxsMnBbar7X"
      }
    },
    {
      "cell_type": "code",
      "source": [
        "arr = np.array(['Hello', 'World', 'python'])\n",
        "result = np.char.lower(arr)\n",
        "print(result)"
      ],
      "metadata": {
        "colab": {
          "base_uri": "https://localhost:8080/"
        },
        "id": "VifxTQUwsiSW",
        "outputId": "486db00c-3644-4fdf-db90-29ba739566de"
      },
      "execution_count": null,
      "outputs": [
        {
          "output_type": "stream",
          "name": "stdout",
          "text": [
            "['hello' 'world' 'python']\n"
          ]
        }
      ]
    },
    {
      "cell_type": "markdown",
      "source": [
        "## Join String by a seperator\n"
      ],
      "metadata": {
        "id": "0TuK212Paskc"
      }
    },
    {
      "cell_type": "code",
      "source": [
        "arr = np.array(['Hello', 'World', 'Python'])\n",
        "\n",
        "separator = ' '\n",
        "result = separator.join(arr)\n",
        "print(result)"
      ],
      "metadata": {
        "colab": {
          "base_uri": "https://localhost:8080/"
        },
        "id": "a0HxbFPRskOl",
        "outputId": "342686a1-d7c4-4371-8c29-bd0bda8cb948"
      },
      "execution_count": null,
      "outputs": [
        {
          "output_type": "stream",
          "name": "stdout",
          "text": [
            "Hello World Python\n"
          ]
        }
      ]
    },
    {
      "cell_type": "markdown",
      "source": [
        "## Check if two same shaped string arrayss one by one\n"
      ],
      "metadata": {
        "id": "lUWzMRSTatOd"
      }
    },
    {
      "cell_type": "code",
      "source": [
        "arr1 = np.array(['Hello', 'World'])\n",
        "arr2 = np.array(['Hello', 'Python'])\n",
        "\n",
        "are_the_same = np.array_equal(arr1, arr2)\n",
        "print(are_the_same)"
      ],
      "metadata": {
        "colab": {
          "base_uri": "https://localhost:8080/"
        },
        "id": "17SNI5Nks_zd",
        "outputId": "63be874d-a10c-4150-9a28-7c110e160ef9"
      },
      "execution_count": null,
      "outputs": [
        {
          "output_type": "stream",
          "name": "stdout",
          "text": [
            "False\n"
          ]
        }
      ]
    },
    {
      "cell_type": "markdown",
      "source": [
        "## Count the number of substrings in an array\n"
      ],
      "metadata": {
        "id": "V7qEm5HtauwL"
      }
    },
    {
      "cell_type": "code",
      "source": [
        "arr = np.array(['Hello', 'World', 'Hello World'])\n",
        "\n",
        "substring = 'Hello'\n",
        "counts = np.char.count(arr, substring)\n",
        "print(counts)"
      ],
      "metadata": {
        "colab": {
          "base_uri": "https://localhost:8080/"
        },
        "id": "p_aEcfsEtHM5",
        "outputId": "09cf5427-ca64-473a-cfd5-6d991a033c8f"
      },
      "execution_count": null,
      "outputs": [
        {
          "output_type": "stream",
          "name": "stdout",
          "text": [
            "[1 0 1]\n"
          ]
        }
      ]
    },
    {
      "cell_type": "markdown",
      "source": [
        "## Find the lowest index of the substring in an array\n"
      ],
      "metadata": {
        "id": "copfW2StavbX"
      }
    },
    {
      "cell_type": "code",
      "source": [
        "arr = np.array(['Hello', 'World', 'Hello World'])\n",
        "substring = 'World'\n",
        "indexes = np.char.find(arr, substring)\n",
        "print(indexes)"
      ],
      "metadata": {
        "colab": {
          "base_uri": "https://localhost:8080/"
        },
        "id": "Yaoa9mZLtVxm",
        "outputId": "3fe36916-2f20-4f2d-95d3-dc70c5bb18fd"
      },
      "execution_count": null,
      "outputs": [
        {
          "output_type": "stream",
          "name": "stdout",
          "text": [
            "[-1  0  6]\n"
          ]
        }
      ]
    },
    {
      "cell_type": "markdown",
      "source": [
        "## Get the boolean array when values end with a particular character\n"
      ],
      "metadata": {
        "id": "V763lgz4awBy"
      }
    },
    {
      "cell_type": "code",
      "source": [
        "arr = np.array(['python', 'tutorial', 'pizza', 'hungry'])\n",
        "character = 'l'\n",
        "ends_with_character = np.char.endswith(arr, character)\n",
        "print(ends_with_character)"
      ],
      "metadata": {
        "colab": {
          "base_uri": "https://localhost:8080/"
        },
        "id": "oWBn1-autec4",
        "outputId": "1f358642-0083-428e-9c43-73744a0d5c14"
      },
      "execution_count": null,
      "outputs": [
        {
          "output_type": "stream",
          "name": "stdout",
          "text": [
            "[False  True False False]\n"
          ]
        }
      ]
    },
    {
      "cell_type": "markdown",
      "source": [
        "## More Questions on NumPy\n"
      ],
      "metadata": {
        "id": "eACs6esNawqP"
      }
    },
    {
      "cell_type": "markdown",
      "source": [
        "## Different ways to convert a Python dictionary to a NumPy array\n"
      ],
      "metadata": {
        "id": "iy0qs4T1axP7"
      }
    },
    {
      "cell_type": "code",
      "source": [
        "my_dict = {'a': 1, 'b': 2, 'c': 3}\n",
        "arr = np.array(list(my_dict.values()))\n",
        "\n",
        "print(arr)\n",
        "\n",
        "my_dict = {'a': 1, 'b': 2, 'c': 3}\n",
        "arr = np.fromiter(my_dict.values(), dtype=int)\n",
        "\n",
        "print(arr)\n",
        "\n",
        "my_dict = {'a': 1, 'b': 2, 'c': 3}\n",
        "arr = np.array(list(my_dict.items()))\n",
        "\n",
        "print(arr)"
      ],
      "metadata": {
        "colab": {
          "base_uri": "https://localhost:8080/"
        },
        "id": "0RQg7Rb4t4Tc",
        "outputId": "2ca304b4-e560-4083-d781-d29130fea9f3"
      },
      "execution_count": null,
      "outputs": [
        {
          "output_type": "stream",
          "name": "stdout",
          "text": [
            "[1 2 3]\n",
            "[1 2 3]\n",
            "[['a' '1']\n",
            " ['b' '2']\n",
            " ['c' '3']]\n"
          ]
        }
      ]
    },
    {
      "cell_type": "markdown",
      "source": [
        "## How to convert a list and tuple into NumPy arrays?\n"
      ],
      "metadata": {
        "id": "qmdNaJoPax4S"
      }
    },
    {
      "cell_type": "code",
      "source": [
        "my_list = [1, 2, 3, 4, 5]\n",
        "arr = np.array(my_list)\n",
        "\n",
        "print(arr)\n",
        "\n",
        "my_tuple = (1, 2, 3, 4, 5)\n",
        "arr = np.array(my_tuple)\n",
        "\n",
        "print(arr)"
      ],
      "metadata": {
        "colab": {
          "base_uri": "https://localhost:8080/"
        },
        "id": "-K7yI_mluKtc",
        "outputId": "9f84410e-8603-465b-8081-8dd13d887d33"
      },
      "execution_count": null,
      "outputs": [
        {
          "output_type": "stream",
          "name": "stdout",
          "text": [
            "[1 2 3 4 5]\n",
            "[1 2 3 4 5]\n"
          ]
        }
      ]
    },
    {
      "cell_type": "markdown",
      "source": [
        "## Ways to convert array of strings to array of floats\n"
      ],
      "metadata": {
        "id": "4lBiCDp2aypP"
      }
    },
    {
      "cell_type": "code",
      "source": [
        "arr_strings = np.array(['1.2', '3.4', '5.6', '7.8'])\n",
        "arr_floats = arr_strings.astype(float)\n",
        "\n",
        "print(arr_floats)\n",
        "\n",
        "arr_strings = np.array(['1.2', '3.4', '5.6', '7.8'])\n",
        "arr_floats = np.fromstring(' '.join(arr_strings), dtype=float, sep=' ')\n",
        "\n",
        "print(arr_floats)"
      ],
      "metadata": {
        "colab": {
          "base_uri": "https://localhost:8080/"
        },
        "id": "dBaznllmuQ0x",
        "outputId": "db477178-6cd1-4b3d-d62e-149394c30d2d"
      },
      "execution_count": null,
      "outputs": [
        {
          "output_type": "stream",
          "name": "stdout",
          "text": [
            "[1.2 3.4 5.6 7.8]\n",
            "[1.2 3.4 5.6 7.8]\n"
          ]
        }
      ]
    },
    {
      "cell_type": "markdown",
      "source": [
        "## Convert a NumPy array into a csv file\n"
      ],
      "metadata": {
        "id": "kTPJmaYlazSU"
      }
    },
    {
      "cell_type": "code",
      "source": [
        "arr = np.array([[1, 2, 3],\n",
        "                [4, 5, 6],\n",
        "                [7, 8, 9]])\n",
        "\n",
        "np.savetxt('file.csv', arr, delimiter=',')"
      ],
      "metadata": {
        "id": "HxOzFAVrupeH"
      },
      "execution_count": null,
      "outputs": []
    },
    {
      "cell_type": "markdown",
      "source": [
        "## How to Convert an image to NumPy array and save it to CSV file using Python?\n"
      ],
      "metadata": {
        "id": "27381hQWaz9Y"
      }
    },
    {
      "cell_type": "code",
      "source": [
        "from PIL import Image\n",
        "\n",
        "image = Image.open('image.png')\n",
        "array = np.array(image)\n",
        "reshaped_array = array.reshape(-1, array.shape[-1])\n",
        "np.savetxt('image.csv', reshaped_array, delimiter=',')"
      ],
      "metadata": {
        "id": "1McDpUkBu4kN"
      },
      "execution_count": null,
      "outputs": []
    },
    {
      "cell_type": "markdown",
      "source": [
        "## How to save a NumPy array to a text file?\n"
      ],
      "metadata": {
        "id": "iAEsasAXa0fh"
      }
    },
    {
      "cell_type": "code",
      "source": [
        "arr = np.array([[1, 2, 3],\n",
        "                [4, 5, 6],\n",
        "                [7, 8, 9]])\n",
        "\n",
        "# Save array to a text file\n",
        "np.savetxt('output.txt', arr)"
      ],
      "metadata": {
        "id": "E0UOgBJlv8Ap"
      },
      "execution_count": null,
      "outputs": []
    },
    {
      "cell_type": "markdown",
      "source": [
        "## Load data from a text file\n"
      ],
      "metadata": {
        "id": "fpGZB5GHa1KC"
      }
    },
    {
      "cell_type": "code",
      "source": [
        "data = np.genfromtxt('data.txt', delimiter=',')\n",
        "print(data)"
      ],
      "metadata": {
        "colab": {
          "base_uri": "https://localhost:8080/"
        },
        "id": "BihlnsRAv17I",
        "outputId": "0e6cf22c-2b86-44ee-88b6-e92a27c42789"
      },
      "execution_count": null,
      "outputs": [
        {
          "output_type": "stream",
          "name": "stdout",
          "text": [
            "nan\n"
          ]
        }
      ]
    },
    {
      "cell_type": "markdown",
      "source": [
        "## Plot line graph from NumPy array\n"
      ],
      "metadata": {
        "id": "ai0-svW6a1x8"
      }
    },
    {
      "cell_type": "code",
      "source": [
        "x = np.array([1, 2, 3, 4, 5])\n",
        "y = np.array([2, 4, 6, 8, 10])\n",
        "\n",
        "plt.plot(x, y)\n",
        "plt.xlabel('X-axis')\n",
        "plt.ylabel('Y-axis')\n",
        "plt.title('Line Graph')\n",
        "\n",
        "plt.show()"
      ],
      "metadata": {
        "colab": {
          "base_uri": "https://localhost:8080/",
          "height": 472
        },
        "id": "aUX64VqGwl71",
        "outputId": "1badc436-a465-4668-fd91-0d37f3ac630e"
      },
      "execution_count": null,
      "outputs": [
        {
          "output_type": "display_data",
          "data": {
            "text/plain": [
              "<Figure size 640x480 with 1 Axes>"
            ],
            "image/png": "[encoded data removed]"
          },
          "metadata": {}
        }
      ]
    },
    {
      "cell_type": "markdown",
      "source": [
        "## Create Histogram using NumPy"
      ],
      "metadata": {
        "id": "tR0r3Pmsa2Zi"
      }
    },
    {
      "cell_type": "code",
      "source": [
        "data = np.random.randn(1000)  # Replace with your own data\n",
        "\n",
        "# Create histogram\n",
        "hist, bins = np.histogram(data, bins=10)  # Adjust the number of bins as needed\n",
        "\n",
        "# Plot the histogram\n",
        "plt.hist(data, bins=10, edgecolor='black')\n",
        "\n",
        "# Add labels and title\n",
        "plt.xlabel('Value')\n",
        "plt.ylabel('Frequency')\n",
        "plt.title('Histogram')\n",
        "\n",
        "# Show the plot\n",
        "plt.show()"
      ],
      "metadata": {
        "colab": {
          "base_uri": "https://localhost:8080/",
          "height": 472
        },
        "id": "21XJrCEDxQMx",
        "outputId": "fc1abe73-f13e-436f-b585-c6ec3ce038ea"
      },
      "execution_count": null,
      "outputs": [
        {
          "output_type": "display_data",
          "data": {
            "text/plain": [
              "<Figure size 640x480 with 1 Axes>"
            ],
            "image/png": "[encoded data removed]"
          },
          "metadata": {}
        }
      ]
    }
  ]
}