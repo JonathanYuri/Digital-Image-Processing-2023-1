{
 "cells": [
  {
   "cell_type": "markdown",
   "id": "8ebfe477",
   "metadata": {
    "id": "8ebfe477"
   },
   "source": [
    "Before you turn this problem in, make sure everything runs as expected. First, **restart the kernel** (in the menubar, select Kernel$\\rightarrow$Restart) and then **run all cells** (in the menubar, select Cell$\\rightarrow$Run All).\n",
    "\n",
    "Make sure you fill in any place that says `YOUR CODE HERE` or \"YOUR ANSWER HERE\", as well as your name and collaborators below:"
   ]
  },
  {
   "cell_type": "code",
   "execution_count": 2,
   "id": "65b6604c",
   "metadata": {
    "id": "65b6604c"
   },
   "outputs": [],
   "source": [
    "NAME = \"Jonathan Yuri da Silva Santos\"\n",
    "COLLABORATORS = \"\""
   ]
  },
  {
   "cell_type": "markdown",
   "id": "c6b4d4ed",
   "metadata": {
    "id": "c6b4d4ed"
   },
   "source": [
    "---"
   ]
  },
  {
   "cell_type": "code",
   "execution_count": 3,
   "id": "b37ae110-19a9-4fa4-b4f9-93cabbc47023",
   "metadata": {
    "deletable": false,
    "editable": false,
    "id": "b37ae110-19a9-4fa4-b4f9-93cabbc47023",
    "nbgrader": {
     "cell_type": "code",
     "checksum": "91095fb7b7f2e23c274da08112a2a1c2",
     "grade": false,
     "grade_id": "imports",
     "locked": true,
     "schema_version": 3,
     "solution": false,
     "task": false
    },
    "tags": []
   },
   "outputs": [],
   "source": [
    "import numpy as np\n",
    "import cv2\n",
    "from matplotlib import pyplot as plt"
   ]
  },
  {
   "cell_type": "markdown",
   "id": "20b1349b-b372-499c-bd3a-1d2006e1e016",
   "metadata": {
    "deletable": false,
    "editable": false,
    "id": "20b1349b-b372-499c-bd3a-1d2006e1e016",
    "nbgrader": {
     "cell_type": "markdown",
     "checksum": "a21c3140b8a138a78b16bbbdbea6476a",
     "grade": false,
     "grade_id": "Intro",
     "locked": true,
     "schema_version": 3,
     "solution": false,
     "task": false
    },
    "tags": []
   },
   "source": [
    "## Introduction"
   ]
  },
  {
   "cell_type": "markdown",
   "id": "3f1c7ecf-d4ff-4f71-9724-3186a8bc1002",
   "metadata": {
    "deletable": false,
    "editable": false,
    "id": "3f1c7ecf-d4ff-4f71-9724-3186a8bc1002",
    "nbgrader": {
     "cell_type": "markdown",
     "checksum": "c0c022357818128f2797b3181348b4d1",
     "grade": false,
     "grade_id": "intro-text",
     "locked": true,
     "schema_version": 3,
     "solution": false,
     "task": false
    },
    "tags": []
   },
   "source": [
    "In Python, an image can be represented as a matrix or a NumPy array. Each pixel corresponds to an element in the matrix. You can manipulate the image by accessing and modifying the matrix elements using array manipulation libraries like NumPy. This allows for efficient operations such as cropping, flipping, resizing, filtering, and more. Treating an image as a matrix provides flexibility and access to a wide range of tools for image processing tasks in Python.\n",
    "\n",
    "For more details, refer to:\n",
    "\n",
    "[OpenCV Getting and Setting Pixels](https://pyimagesearch.com/2021/01/20/opencv-getting-and-setting-pixels/)"
   ]
  },
  {
   "cell_type": "markdown",
   "id": "454c374c-495c-4de6-a0a1-aa7663c54764",
   "metadata": {
    "deletable": false,
    "editable": false,
    "id": "454c374c-495c-4de6-a0a1-aa7663c54764",
    "nbgrader": {
     "cell_type": "markdown",
     "checksum": "32907d9dedb4da5e5a7a554bb81b835f",
     "grade": false,
     "grade_id": "Prompt-1",
     "locked": true,
     "schema_version": 3,
     "solution": false,
     "task": false
    },
    "tags": []
   },
   "source": [
    "# Crop and flip an image using Numpy array indexing."
   ]
  },
  {
   "cell_type": "code",
   "execution_count": 5,
   "id": "a9664606-b3a8-4645-9a21-63ee7dde5a03",
   "metadata": {
    "deletable": false,
    "id": "a9664606-b3a8-4645-9a21-63ee7dde5a03",
    "nbgrader": {
     "cell_type": "code",
     "checksum": "b9e28a98bfcaa0178822fe97aa2f7b92",
     "grade": false,
     "grade_id": "crop",
     "locked": false,
     "schema_version": 3,
     "solution": true,
     "task": false
    },
    "tags": []
   },
   "outputs": [],
   "source": [
    "def crop(img, x1, y1, x2, y2):\n",
    "    '''\n",
    "    Crop an image using NumPy array indexing.\n",
    "    Parameters:\n",
    "    image (numpy.ndarray): The input image as a NumPy array.\n",
    "    x1 (int): The x-coordinate of the top-left corner of the cropping area.\n",
    "    y1 (int): The y-coordinate of the top-left corner of the cropping area.\n",
    "    x2 (int): The x-coordinate of the bottom-right corner of the cropping area.\n",
    "    y2 (int): The y-coordinate of the bottom-right corner of the cropping area.\n",
    "\n",
    "    Returns:\n",
    "    numpy.ndarray: The cropped image as a NumPy array.\n",
    "    '''\n",
    "    # YOUR CODE HERE\n",
    "    cropped_image = img[y1:y2, x1:x2]\n",
    "    return cropped_image"
   ]
  },
  {
   "cell_type": "code",
   "execution_count": 6,
   "id": "b3ef332c-65e8-4465-ad6d-6001898301d8",
   "metadata": {
    "deletable": false,
    "id": "b3ef332c-65e8-4465-ad6d-6001898301d8",
    "nbgrader": {
     "cell_type": "code",
     "checksum": "1b47a709f8b38f26a6dac6500985dce1",
     "grade": false,
     "grade_id": "flip",
     "locked": false,
     "schema_version": 3,
     "solution": true,
     "task": false
    },
    "tags": []
   },
   "outputs": [],
   "source": [
    "def flip(img, axis):\n",
    "    '''\n",
    "    Flip an image using NumPy array indexing.\n",
    "\n",
    "    Parameters:\n",
    "    image (numpy.ndarray): The input image as a NumPy array.\n",
    "    axis (int): The axis along which to flip the image.\n",
    "                0: Flip vertically (upside down).\n",
    "                1: Flip horizontally (mirror image).\n",
    "\n",
    "    Returns:\n",
    "    numpy.ndarray: The flipped image as a NumPy array.\n",
    "    '''\n",
    "    # YOUR CODE HERE\n",
    "    flipped_image = np.zeros_like(img)\n",
    "    (h, w) = img.shape[:2]\n",
    "    \n",
    "    if axis == 0:\n",
    "        for row in range(h):\n",
    "            flipped_image[row, :] = img[h - row - 1, :]\n",
    "    elif axis == 1:\n",
    "        for column in range(w):\n",
    "            flipped_image[:, column] = img[:, w - column - 1]\n",
    "\n",
    "    '''\n",
    "    flipped_image = np.flip(img, axis)\n",
    "    '''\n",
    "    \n",
    "    return flipped_image"
   ]
  },
  {
   "cell_type": "code",
   "execution_count": null,
   "id": "49e6b6c3-d60b-4d9d-893a-3f0f8936d02b",
   "metadata": {
    "deletable": false,
    "editable": false,
    "id": "49e6b6c3-d60b-4d9d-893a-3f0f8936d02b",
    "nbgrader": {
     "cell_type": "code",
     "checksum": "4ade329d65beeec0f733d32acf6191ea",
     "grade": true,
     "grade_id": "crop-test",
     "locked": true,
     "points": 1,
     "schema_version": 3,
     "solution": false,
     "task": false
    },
    "tags": []
   },
   "outputs": [],
   "source": []
  },
  {
   "cell_type": "code",
   "execution_count": null,
   "id": "7c237801-15dd-4a41-9df4-ecbf26afe0be",
   "metadata": {
    "deletable": false,
    "editable": false,
    "id": "7c237801-15dd-4a41-9df4-ecbf26afe0be",
    "nbgrader": {
     "cell_type": "code",
     "checksum": "a5726eb0974b79d2208b31269afaef57",
     "grade": true,
     "grade_id": "flip-test",
     "locked": true,
     "points": 1,
     "schema_version": 3,
     "solution": false,
     "task": false
    },
    "tags": []
   },
   "outputs": [],
   "source": []
  },
  {
   "cell_type": "markdown",
   "id": "644353e5-5560-49c4-a870-93f78a027c6f",
   "metadata": {
    "deletable": false,
    "editable": false,
    "id": "644353e5-5560-49c4-a870-93f78a027c6f",
    "nbgrader": {
     "cell_type": "markdown",
     "checksum": "f9bbaaa756c315bf58fdaa6b7b83d667",
     "grade": false,
     "grade_id": "Prompt-2",
     "locked": true,
     "schema_version": 3,
     "solution": false,
     "task": false
    },
    "tags": []
   },
   "source": [
    "# Implement image translation using Numpy and OpenCV."
   ]
  },
  {
   "cell_type": "code",
   "execution_count": 7,
   "id": "0ebdc6d9-bf3f-4b53-81de-23a7b1f8cb0f",
   "metadata": {
    "deletable": false,
    "id": "0ebdc6d9-bf3f-4b53-81de-23a7b1f8cb0f",
    "nbgrader": {
     "cell_type": "code",
     "checksum": "a73dbe2b9a546b38dfd535b341fe6a19",
     "grade": false,
     "grade_id": "translate",
     "locked": false,
     "schema_version": 3,
     "solution": true,
     "task": false
    },
    "tags": []
   },
   "outputs": [],
   "source": [
    "def translate_image(img, dx, dy):\n",
    "    '''\n",
    "    Parameters:\n",
    "    image (numpy.ndarray): The input image as a NumPy array.\n",
    "    dx (int): The translation amount in the x-direction. Positive values translate to the right.\n",
    "    dy (int): The translation amount in the y-direction. Positive values translate down\n",
    "\n",
    "    Returns:\n",
    "    numpy.ndarray: The translated image as a NumPy array.\n",
    "    '''\n",
    "\n",
    "    # YOUR CODE HERE\n",
    "    (h, w) = img.shape[:2]\n",
    "    translated_image = np.zeros_like(img)\n",
    "    translated_image[dy:h, dx:w] = img[0:h-dy, 0:w-dx]\n",
    "    \n",
    "    '''\n",
    "    Using OpenCV:\n",
    "    translation_matrix = np.float32([[1, 0, tx], [0, 1, ty]])\n",
    "    translated_image = cv2.warpAffine(image, translation_matrix, (w, h))\n",
    "    '''\n",
    "\n",
    "    return translated_image"
   ]
  },
  {
   "cell_type": "code",
   "execution_count": null,
   "id": "4fb0d55d-1dee-4f90-8cb3-7f45ca37284b",
   "metadata": {
    "deletable": false,
    "editable": false,
    "id": "4fb0d55d-1dee-4f90-8cb3-7f45ca37284b",
    "nbgrader": {
     "cell_type": "code",
     "checksum": "6031545a34643f8745eb658b228a18e7",
     "grade": true,
     "grade_id": "translate-test",
     "locked": true,
     "points": 1,
     "schema_version": 3,
     "solution": false,
     "task": false
    },
    "tags": []
   },
   "outputs": [],
   "source": []
  },
  {
   "cell_type": "markdown",
   "id": "e870d01b-f98f-473c-bb07-facd3cc9d031",
   "metadata": {
    "deletable": false,
    "editable": false,
    "id": "e870d01b-f98f-473c-bb07-facd3cc9d031",
    "nbgrader": {
     "cell_type": "markdown",
     "checksum": "d99c22ea8f0b08ada7596179814b8524",
     "grade": false,
     "grade_id": "Prompt-3",
     "locked": true,
     "schema_version": 3,
     "solution": false,
     "task": false
    },
    "tags": []
   },
   "source": [
    "# Implement image rotation around its center using NumPy and OpenCV."
   ]
  },
  {
   "cell_type": "code",
   "execution_count": 8,
   "id": "865106f8-b925-408f-8305-4bc6be7fa599",
   "metadata": {
    "deletable": false,
    "id": "865106f8-b925-408f-8305-4bc6be7fa599",
    "nbgrader": {
     "cell_type": "code",
     "checksum": "4266fd6d3c958d8a4c9c477dd281665f",
     "grade": false,
     "grade_id": "rotate",
     "locked": false,
     "schema_version": 3,
     "solution": true,
     "task": false
    },
    "tags": []
   },
   "outputs": [],
   "source": [
    "def rotate_image(img, angle):\n",
    "    \"\"\"\n",
    "    Rotate an image using NumPy and OpenCV.\n",
    "\n",
    "    Parameters:\n",
    "    image (numpy.ndarray): The input image as a NumPy array.\n",
    "    angle (float): The rotation angle in degrees.\n",
    "\n",
    "    Returns:\n",
    "    numpy.ndarray: The rotated image as a NumPy array.\n",
    "    \"\"\"\n",
    "\n",
    "    # YOUR CODE HERE\n",
    "    (h, w) = img.shape[:2]\n",
    "    center = (h // 2, w // 2)\n",
    "    angle_rad = np.radians(angle)\n",
    "    \n",
    "    rotated_image = np.zeros_like(img)\n",
    "    for y in range(h):\n",
    "        for x in range(w):\n",
    "            # to rotate: translate to origin, rotate, translate to center\n",
    "            \n",
    "            translated_to_origin_x = x - center[0]\n",
    "            translated_to_origin_y = y - center[1]\n",
    "            \n",
    "            # x' = x cos(theta) - y sin(theta)\n",
    "            x_rotated = translated_to_origin_x * np.cos(angle_rad) - translated_to_origin_y * np.sin(angle_rad)\n",
    "            \n",
    "            # y' = x sin(theta) + y cos(theta)\n",
    "            y_rotated = translated_to_origin_x * np.sin(angle_rad) + translated_to_origin_y * np.cos(angle_rad)\n",
    "            \n",
    "            x_rotated_back_to_center = int(x_rotated) + center[0]\n",
    "            y_rotated_back_to_center = int(y_rotated) + center[1]\n",
    "            \n",
    "            if 0 <= x_rotated_back_to_center < w and 0 <= y_rotated_back_to_center < h:\n",
    "                rotated_image[y, x] = img[y_rotated_back_to_center, x_rotated_back_to_center]\n",
    "                \n",
    "    '''\n",
    "    Using OpenCV\n",
    "    angle = 45\n",
    "    rotation_matrix = cv2.getRotationMatrix2D(center, angle, 1.0)\n",
    "    rotated_image = cv2.warpAffine(image, rotation_matrix, (width, height))\n",
    "    '''\n",
    "\n",
    "    return rotated_image"
   ]
  },
  {
   "cell_type": "code",
   "execution_count": null,
   "id": "2a24af6e-f20f-472e-bf33-593d957a9c26",
   "metadata": {
    "deletable": false,
    "editable": false,
    "id": "2a24af6e-f20f-472e-bf33-593d957a9c26",
    "nbgrader": {
     "cell_type": "code",
     "checksum": "870072b66c9d640f97e416480bca19ac",
     "grade": true,
     "grade_id": "rotate-test",
     "locked": true,
     "points": 1,
     "schema_version": 3,
     "solution": false,
     "task": false
    },
    "tags": []
   },
   "outputs": [],
   "source": []
  },
  {
   "cell_type": "markdown",
   "id": "107806f5-893d-460f-8c14-a929a40f8bd5",
   "metadata": {
    "deletable": false,
    "editable": false,
    "id": "107806f5-893d-460f-8c14-a929a40f8bd5",
    "nbgrader": {
     "cell_type": "markdown",
     "checksum": "81a3e45eeec3bc9e46f7e70ae002d23f",
     "grade": false,
     "grade_id": "Prompt-4",
     "locked": true,
     "schema_version": 3,
     "solution": false,
     "task": false
    },
    "tags": []
   },
   "source": [
    "# Implement image resizing using OpenCV."
   ]
  },
  {
   "cell_type": "code",
   "execution_count": 9,
   "id": "dbd6b773-a4fb-4cc3-9636-93f14760c2a3",
   "metadata": {
    "deletable": false,
    "id": "dbd6b773-a4fb-4cc3-9636-93f14760c2a3",
    "nbgrader": {
     "cell_type": "code",
     "checksum": "7be344c3beed5ea0cdaa724a593d697e",
     "grade": false,
     "grade_id": "resize",
     "locked": false,
     "schema_version": 3,
     "solution": true,
     "task": false
    },
    "tags": []
   },
   "outputs": [],
   "source": [
    "def resize_image(image, scale):\n",
    "    \"\"\"\n",
    "    Resize an image using OpenCV.\n",
    "\n",
    "    Parameters:\n",
    "    image (numpy.ndarray): The input image as a NumPy array.\n",
    "    scale (float): The scaling factor to resize the image.\n",
    "\n",
    "    Returns:\n",
    "    numpy.ndarray: The resized image as a NumPy array.\n",
    "    \"\"\"\n",
    "    #Make sure your scale is greather than zero.\n",
    "    # YOUR CODE HERE\n",
    "    assert scale > 0, \"A escala precisa ser maior que 0\"\n",
    "    \n",
    "    resized_image = np.zeros_like(image)\n",
    "    new_width = int(img.shape[1] * scale)\n",
    "    new_height = int(img.shape[0] * scale)\n",
    "    resized_image = cv2.resize(img, (new_width, new_height))\n",
    "\n",
    "    '''\n",
    "    (h, w) = image.shape[:2]\n",
    "    resized_image = np.empty_like(image)\n",
    "    if scale > 0:\n",
    "        for y in range(h):\n",
    "            for x in range(w):\n",
    "                x_scaled = x // scale\n",
    "                y_scaled = y // scale\n",
    "\n",
    "                if 0 <= x_scaled < w and 0 <= y_scaled < h:\n",
    "                    resized_image[y, x] = image[y_scaled, x_scaled]\n",
    "                    \n",
    "    OR\n",
    "    \n",
    "    new_width = int(image.shape[1] * scale)\n",
    "    new_height = int(image.shape[0] * scale)\n",
    "\n",
    "    x, y = np.meshgrid(np.arange(new_width), np.arange(new_height))\n",
    "\n",
    "    x_scaled = x // scale\n",
    "    y_scaled = y // scale\n",
    "\n",
    "    resized_image = image[y_scaled, x_scaled]\n",
    "    '''\n",
    "\n",
    "    return resized_image"
   ]
  },
  {
   "cell_type": "code",
   "execution_count": null,
   "id": "822a2761-5bfb-46ce-a6f2-228bc68e1de7",
   "metadata": {
    "deletable": false,
    "editable": false,
    "id": "822a2761-5bfb-46ce-a6f2-228bc68e1de7",
    "nbgrader": {
     "cell_type": "code",
     "checksum": "fe3f6634ef5233a32bc89e5dba1be360",
     "grade": true,
     "grade_id": "resize-test",
     "locked": true,
     "points": 1,
     "schema_version": 3,
     "solution": false,
     "task": false
    },
    "tags": []
   },
   "outputs": [],
   "source": []
  },
  {
   "cell_type": "markdown",
   "id": "4709be40-d248-49d1-8f42-1a0261549104",
   "metadata": {
    "deletable": false,
    "editable": false,
    "id": "4709be40-d248-49d1-8f42-1a0261549104",
    "nbgrader": {
     "cell_type": "markdown",
     "checksum": "60d518aa226eafcbc3e9d7c877d2e5cc",
     "grade": false,
     "grade_id": "Prompt-5",
     "locked": true,
     "schema_version": 3,
     "solution": false,
     "task": false
    },
    "tags": []
   },
   "source": [
    "# Implement bitwise operations: AND, OR, XOR."
   ]
  },
  {
   "cell_type": "code",
   "execution_count": 14,
   "id": "eff22b2c-def1-457b-a499-f835abd9d6cb",
   "metadata": {
    "deletable": false,
    "id": "eff22b2c-def1-457b-a499-f835abd9d6cb",
    "nbgrader": {
     "cell_type": "code",
     "checksum": "7f93f0295eb87181365a7c88cf14df53",
     "grade": false,
     "grade_id": "bitwise-and",
     "locked": false,
     "schema_version": 3,
     "solution": true,
     "task": false
    },
    "tags": []
   },
   "outputs": [],
   "source": [
    "def bitwise_and(image1, image2):\n",
    "    \"\"\"\n",
    "    Perform a bitwise AND operation on two images using NumPy.\n",
    "\n",
    "    Parameters:\n",
    "    image1 (numpy.ndarray): The first input image as a NumPy array.\n",
    "    image2 (numpy.ndarray): The second input image as a NumPy array.\n",
    "\n",
    "    Returns:\n",
    "    numpy.ndarray: The result of the bitwise AND operation as a NumPy array.\n",
    "    \"\"\"\n",
    "    # YOUR CODE HERE\n",
    "    result = image1 & image2\n",
    "    #result = np.bitwise_and(image1, image2)\n",
    "    #result = cv2.bitwise_and(image1, image2)\n",
    "    \n",
    "    return result"
   ]
  },
  {
   "cell_type": "code",
   "execution_count": 15,
   "id": "21eabccb-6fce-46b2-bfe3-da531821807e",
   "metadata": {
    "deletable": false,
    "id": "21eabccb-6fce-46b2-bfe3-da531821807e",
    "nbgrader": {
     "cell_type": "code",
     "checksum": "20cd4658c41239213ab808ad8bab506d",
     "grade": false,
     "grade_id": "bitwise-or",
     "locked": false,
     "schema_version": 3,
     "solution": true,
     "task": false
    },
    "tags": []
   },
   "outputs": [],
   "source": [
    "def bitwise_or(image1, image2):\n",
    "    \"\"\"\n",
    "    Perform a bitwise OR operation on two images using NumPy.\n",
    "\n",
    "    Parameters:\n",
    "    image1 (numpy.ndarray): The first input image as a NumPy array.\n",
    "    image2 (numpy.ndarray): The second input image as a NumPy array.\n",
    "\n",
    "    Returns:\n",
    "    numpy.ndarray: The result of the bitwise OR operation as a NumPy array.\n",
    "    \"\"\"\n",
    "    # YOUR CODE HERE\n",
    "    result = image1 | image2\n",
    "    #result = np.bitwise_or(image1, image2)\n",
    "    #result = cv2.bitwise_or(image1, image2)\n",
    "    \n",
    "    return result"
   ]
  },
  {
   "cell_type": "code",
   "execution_count": 16,
   "id": "7ab09bcb-0e83-4999-8cb0-2bd1165a9fca",
   "metadata": {
    "deletable": false,
    "id": "7ab09bcb-0e83-4999-8cb0-2bd1165a9fca",
    "nbgrader": {
     "cell_type": "code",
     "checksum": "3feb28a780c941a5ba93363b88db0417",
     "grade": false,
     "grade_id": "bitwise-xor",
     "locked": false,
     "schema_version": 3,
     "solution": true,
     "task": false
    },
    "tags": []
   },
   "outputs": [],
   "source": [
    "def bitwise_xor(image1, image2):\n",
    "    \"\"\"\n",
    "    Perform a bitwise XOR (exclusive OR) operation on two images using NumPy.\n",
    "\n",
    "    Parameters:\n",
    "    image1 (numpy.ndarray): The first input image as a NumPy array.\n",
    "    image2 (numpy.ndarray): The second input image as a NumPy array.\n",
    "\n",
    "    Returns:\n",
    "    numpy.ndarray: The result of the bitwise XOR operation as a NumPy array.\n",
    "    \"\"\"\n",
    "    # YOUR CODE HERE\n",
    "    result = image1 ^ image2\n",
    "    #result = np.bitwise_xor(image1, image2)\n",
    "    #result = cv2.bitwise_xor(image1, image2)\n",
    "    \n",
    "    return result"
   ]
  },
  {
   "cell_type": "code",
   "execution_count": null,
   "id": "0dfce43f-1445-4ac9-8c25-7ee79ddeb326",
   "metadata": {
    "deletable": false,
    "editable": false,
    "id": "0dfce43f-1445-4ac9-8c25-7ee79ddeb326",
    "nbgrader": {
     "cell_type": "code",
     "checksum": "db26906020ac1e5bd4998404e6e0aca3",
     "grade": true,
     "grade_id": "bitwise-and-test",
     "locked": true,
     "points": 1,
     "schema_version": 3,
     "solution": false,
     "task": false
    },
    "tags": []
   },
   "outputs": [],
   "source": []
  },
  {
   "cell_type": "code",
   "execution_count": null,
   "id": "2ff00c8f-8a61-4e38-95be-9cc53af339fe",
   "metadata": {
    "deletable": false,
    "editable": false,
    "id": "2ff00c8f-8a61-4e38-95be-9cc53af339fe",
    "nbgrader": {
     "cell_type": "code",
     "checksum": "8a91d5176bd5086cc95c9597397ac6fd",
     "grade": true,
     "grade_id": "bitwise-or-test",
     "locked": true,
     "points": 1,
     "schema_version": 3,
     "solution": false,
     "task": false
    },
    "tags": []
   },
   "outputs": [],
   "source": []
  },
  {
   "cell_type": "code",
   "execution_count": null,
   "id": "127fc3f7-0e35-4b90-956c-10cc23e68050",
   "metadata": {
    "deletable": false,
    "editable": false,
    "id": "127fc3f7-0e35-4b90-956c-10cc23e68050",
    "nbgrader": {
     "cell_type": "code",
     "checksum": "1e3fd9f233400abf40ea01d2f31d2e39",
     "grade": true,
     "grade_id": "bitwise-xor-test",
     "locked": true,
     "points": 1,
     "schema_version": 3,
     "solution": false,
     "task": false
    },
    "tags": []
   },
   "outputs": [],
   "source": []
  },
  {
   "cell_type": "markdown",
   "id": "e2a00afb-c11a-4a65-9d67-753579a385c3",
   "metadata": {
    "deletable": false,
    "editable": false,
    "id": "e2a00afb-c11a-4a65-9d67-753579a385c3",
    "nbgrader": {
     "cell_type": "markdown",
     "checksum": "1583c38669721b0abebfc08221f9cbfa",
     "grade": false,
     "grade_id": "Prompt-6",
     "locked": true,
     "schema_version": 3,
     "solution": false,
     "task": false
    },
    "tags": []
   },
   "source": [
    "# Implement the \"mask\" operation, where a third image 'h' contains only a Region of Interest (ROI -- defined by the second image mask 'g') obtained from the input image 'f'. Note that this Region can be of any shape.\n",
    "\n",
    "Masking is a technique used in Image Processing to isolate and extract the Region of Interest (ROI), which refers to the specific part of an image that is of interest or relevance for analysis.\n",
    "Bitwise operations are commonly employed for masking as they enable us to selectively retain or discard specific portions of the image. By using bitwise operations, we can efficiently exclude the areas of the image that are not required, focusing only on the desired region for further processing or analysis.\n",
    "\n",
    "Masking involves three steps:\n",
    "* Creating a black mask canvas with the same dimensions as the original image.\n",
    "* Modifying the mask by drawing a shape or figure of interest in white color.\n",
    "* Applying the bitwise OR operation to combine the modified mask with the original image.\n",
    "\n",
    "These steps enable us to selectively include or exclude specific regions of the image based on the defined mask."
   ]
  },
  {
   "cell_type": "code",
   "execution_count": 17,
   "id": "bcfdaf90-0c8b-4627-a3d3-13ab32a67396",
   "metadata": {
    "deletable": false,
    "id": "bcfdaf90-0c8b-4627-a3d3-13ab32a67396",
    "nbgrader": {
     "cell_type": "code",
     "checksum": "34b0dcd48fe277bb69a6bfe363fb885b",
     "grade": false,
     "grade_id": "mask",
     "locked": false,
     "schema_version": 3,
     "solution": true,
     "task": false
    },
    "tags": []
   },
   "outputs": [],
   "source": [
    "# create a mask of that has the same dimensions of the image\n",
    "# where each pixel is valued at 0\n",
    "mask = None\n",
    "\n",
    "# create a circle on the mask\n",
    "# where the pixels are valued at 255\n",
    "x, y = None, None\n",
    "radius = None\n",
    "cv2.circle(mask, (x, y), radius, 255, -1)\n",
    "\n",
    "# perform a bitwise_and with the image and the mask\n",
    "masked = None\n",
    "\n",
    "\n",
    "# YOUR CODE HERE\n",
    "img = cv2.imread(IMG, cv2.IMREAD_COLOR)\n",
    "\n",
    "(h, w) = img.shape[:2]\n",
    "mask = np.zeros(img.shape[:2], dtype=np.uint8)\n",
    "mask = np.expand_dims(mask, axis=2) # pra imagens RGB\n",
    "\n",
    "#print(type(img.dtype)) <- esse era o problema, bitwise com dtypes diferentes\n",
    "#print(type(mask.dtype))\n",
    "\n",
    "x, y = h // 2, w // 2\n",
    "radius = 100\n",
    "cv2.circle(mask, (x, y), radius, 255, -1)\n",
    "\n",
    "masked = bitwise_and(img, mask)\n",
    "\n",
    "cv2.imshow('Original image: ', img)\n",
    "cv2.imshow('Mask: ', mask)\n",
    "cv2.imshow('Result: ', masked)\n",
    "\n",
    "cv2.waitKey(0)\n",
    "cv2.destroyAllWindows()"
   ]
  },
  {
   "cell_type": "code",
   "execution_count": null,
   "id": "fbc32d41-9b3a-4067-9310-cd9dfb31fdc1",
   "metadata": {
    "deletable": false,
    "editable": false,
    "id": "fbc32d41-9b3a-4067-9310-cd9dfb31fdc1",
    "nbgrader": {
     "cell_type": "code",
     "checksum": "8e308dd57e4c74801eccaf383c1e0942",
     "grade": true,
     "grade_id": "mask-test",
     "locked": true,
     "points": 2,
     "schema_version": 3,
     "solution": false,
     "task": false
    },
    "tags": []
   },
   "outputs": [],
   "source": []
  }
 ],
 "metadata": {
  "colab": {
   "provenance": []
  },
  "kernelspec": {
   "display_name": "Python 3 (ipykernel)",
   "language": "python",
   "name": "python3"
  },
  "language_info": {
   "codemirror_mode": {
    "name": "ipython",
    "version": 3
   },
   "file_extension": ".py",
   "mimetype": "text/x-python",
   "name": "python",
   "nbconvert_exporter": "python",
   "pygments_lexer": "ipython3",
   "version": "3.9.12"
  }
 },
 "nbformat": 4,
 "nbformat_minor": 5
}
