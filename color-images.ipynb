{
 "cells": [
  {
   "cell_type": "markdown",
   "id": "3c8ba709",
   "metadata": {},
   "source": [
    "Before you turn this problem in, make sure everything runs as expected. First, **restart the kernel** (in the menubar, select Kernel$\\rightarrow$Restart) and then **run all cells** (in the menubar, select Cell$\\rightarrow$Run All).\n",
    "\n",
    "Make sure you fill in any place that says `YOUR CODE HERE` or \"YOUR ANSWER HERE\", as well as your name and collaborators below:"
   ]
  },
  {
   "cell_type": "code",
   "execution_count": 34,
   "id": "7626b62a",
   "metadata": {},
   "outputs": [],
   "source": [
    "NAME = \"JONATHAN YURI DA SILVA SANTOS\"\n",
    "COLLABORATORS = \"\""
   ]
  },
  {
   "cell_type": "markdown",
   "id": "5a6bc099",
   "metadata": {},
   "source": [
    "---"
   ]
  },
  {
   "cell_type": "code",
   "execution_count": 35,
   "id": "18206b57",
   "metadata": {
    "deletable": false,
    "editable": false,
    "nbgrader": {
     "cell_type": "code",
     "checksum": "3142704d58fb231f45aacb361ed7a1f0",
     "grade": false,
     "grade_id": "imports",
     "locked": true,
     "schema_version": 3,
     "solution": false,
     "task": false
    },
    "tags": []
   },
   "outputs": [],
   "source": [
    "import cv2\n",
    "import numpy as np\n",
    "from matplotlib import pyplot as plt"
   ]
  },
  {
   "cell_type": "markdown",
   "id": "8ee110dc",
   "metadata": {
    "deletable": false,
    "editable": false,
    "nbgrader": {
     "cell_type": "markdown",
     "checksum": "e88b050713f543bbef1cf42ca5d76105",
     "grade": false,
     "grade_id": "intro",
     "locked": true,
     "schema_version": 3,
     "solution": false,
     "task": false
    },
    "tags": []
   },
   "source": [
    "# Introduction\n",
    "\n",
    "Colors play a fundamental role in the field of image processing and computer vision. In digital images, colors are represented using combinations of three primary color channels: red, green, and blue. This color model is known as the RGB color model. Each pixel in an RGB image is a mixture of these three primary colors, and the combination of these color intensities creates the full spectrum of colors visible to the human eye.\n",
    "\n",
    "In Python, images are typically represented as multidimensional arrays, with each element in the array representing the intensity of one of the color channels at a specific pixel location. For example, in a color image, the pixel values are represented as a three-dimensional array, with the first dimension corresponding to the height of the image, the second dimension corresponding to the width, and the third dimension corresponding to the three color channels (red, green, and blue).\n",
    "\n",
    "Understanding image channels is crucial for various image processing tasks, such as color manipulation, segmentation, and analysis. Python provides powerful libraries like OpenCV and NumPy that allow us to easily manipulate and analyze images, including accessing and modifying individual color channels.\n",
    "\n",
    "In this context, this introduction explores the concept of colors and image channels in Python, providing the foundation for performing various image processing operations and gaining insights from digital images. By understanding how colors are represented and manipulated in Python, one can unlock a wide range of possibilities for image analysis and computer vision applications.\n",
    "\n",
    "\n",
    "For more details, refer to:\n",
    "\n",
    "[Splitting and Merging Channels with OpenCV](https://pyimagesearch.com/2021/01/23/splitting-and-merging-channels-with-opencv/)\n"
   ]
  },
  {
   "cell_type": "markdown",
   "id": "49986528",
   "metadata": {
    "deletable": false,
    "editable": false,
    "nbgrader": {
     "cell_type": "markdown",
     "checksum": "7fd7f765c813092fea6ec433efb4a707",
     "grade": false,
     "grade_id": "prompt1",
     "locked": true,
     "schema_version": 3,
     "solution": false,
     "task": false
    },
    "tags": []
   },
   "source": [
    "### Read the function docstring below and complete it using opencv."
   ]
  },
  {
   "cell_type": "code",
   "execution_count": 36,
   "id": "fa5bc6f1",
   "metadata": {
    "deletable": false,
    "nbgrader": {
     "cell_type": "code",
     "checksum": "6ea6fbfc70bf779cbf06fa97f7faa41d",
     "grade": false,
     "grade_id": "split",
     "locked": false,
     "schema_version": 3,
     "solution": true,
     "task": false
    },
    "tags": []
   },
   "outputs": [],
   "source": [
    "def split_channels(image):\n",
    "    \"\"\"\n",
    "    Split the input image into red, green, and blue channels.\n",
    "\n",
    "    Parameters:\n",
    "    image (numpy.ndarray): The input image as a NumPy array.\n",
    "\n",
    "    Returns:\n",
    "    tuple: A tuple containing the red, green, and blue channels as separate images.\n",
    "    \"\"\"\n",
    "    # YOUR CODE HERE\n",
    "    (blue_channel, green_channel, red_channel) = cv2.split(image)\n",
    "    return red_channel, green_channel, blue_channel"
   ]
  },
  {
   "cell_type": "code",
   "execution_count": 37,
   "id": "3f702935",
   "metadata": {
    "deletable": false,
    "editable": false,
    "nbgrader": {
     "cell_type": "code",
     "checksum": "990b8f336ed6bcfa98b033e2246aa063",
     "grade": true,
     "grade_id": "test1",
     "locked": true,
     "points": 1,
     "schema_version": 3,
     "solution": false,
     "task": false
    },
    "tags": []
   },
   "outputs": [],
   "source": [
    "#DO NOT TOUCH THIS\n",
    "#DO NOT TOUCH THIS"
   ]
  },
  {
   "cell_type": "code",
   "execution_count": 38,
   "id": "71afa86e",
   "metadata": {
    "deletable": false,
    "nbgrader": {
     "cell_type": "code",
     "checksum": "de38c031b4824a48b4ad4901cf5d9d42",
     "grade": false,
     "grade_id": "normalize",
     "locked": false,
     "schema_version": 3,
     "solution": true,
     "task": false
    },
    "tags": []
   },
   "outputs": [],
   "source": [
    "def normalize_image(image):\n",
    "    \"\"\"\n",
    "    Normalize the input image by converting it to float and dividing by 255.0.\n",
    "\n",
    "    Parameters:\n",
    "    image (numpy.ndarray): The input image as a NumPy array.\n",
    "\n",
    "    Returns:\n",
    "    numpy.ndarray: The normalized image as a NumPy array.\n",
    "    \"\"\"\n",
    "    #use 32-bit single-precision provided by numpy\n",
    "    \n",
    "    # YOUR CODE HERE\n",
    "    normalized_image = image.astype(np.float32) / 255.0\n",
    "    return normalized_image"
   ]
  },
  {
   "cell_type": "code",
   "execution_count": 39,
   "id": "faa09c54",
   "metadata": {
    "deletable": false,
    "editable": false,
    "nbgrader": {
     "cell_type": "code",
     "checksum": "9846425862bb26bbfaa203c8587cdddc",
     "grade": true,
     "grade_id": "test2",
     "locked": true,
     "points": 1,
     "schema_version": 3,
     "solution": false,
     "task": false
    },
    "tags": []
   },
   "outputs": [],
   "source": [
    "#DO NOT TOUCH THIS\n",
    "#DO NOT TOUCH THIS"
   ]
  },
  {
   "cell_type": "code",
   "execution_count": null,
   "id": "327269cb",
   "metadata": {},
   "outputs": [],
   "source": []
  }
 ],
 "metadata": {
  "kernelspec": {
   "display_name": "Python 3 (ipykernel)",
   "language": "python",
   "name": "python3"
  },
  "language_info": {
   "codemirror_mode": {
    "name": "ipython",
    "version": 3
   },
   "file_extension": ".py",
   "mimetype": "text/x-python",
   "name": "python",
   "nbconvert_exporter": "python",
   "pygments_lexer": "ipython3",
   "version": "3.9.12"
  }
 },
 "nbformat": 4,
 "nbformat_minor": 5
}
